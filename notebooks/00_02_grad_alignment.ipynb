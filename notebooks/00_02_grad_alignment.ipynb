{
 "cells": [
  {
   "cell_type": "markdown",
   "id": "0e00976d-c767-4571-9a41-72111dd2101a",
   "metadata": {},
   "source": [
    "# Base Models"
   ]
  },
  {
   "cell_type": "code",
   "execution_count": 1,
   "id": "8bc917d7-97be-4b85-af0d-16941f90e68a",
   "metadata": {},
   "outputs": [],
   "source": [
    "# ! pip install torch --upgrade"
   ]
  },
  {
   "cell_type": "code",
   "execution_count": 2,
   "id": "22a97802-3ec9-4a08-960a-9a71f1bbb844",
   "metadata": {},
   "outputs": [],
   "source": [
    "# https://wandb.ai/kilianovski/misha-iml/runs/kn69jraw\n",
    "\n",
    "\n",
    "checkpoint_path = '../models/transformers/pretrained_1L_dmodel=1024_attnonly=False20240718_200143.pt'\n",
    "checkpoint_path = '../models/transformers/grokking_prod_120_1_0.1_attnonly_False20240712_133838.pt'\n",
    "\n",
    "\n",
    "transformer_config = dict(\n",
    "    d_vocab=512,\n",
    "    n_layers=1,\n",
    "    d_model=1024,\n",
    "    d_head=128,\n",
    "    n_heads=4,\n",
    "    d_mlp=256,\n",
    "    n_ctx=5,\n",
    "    act_fn=\"relu\",  # gelu?\n",
    "    normalization_type='LN',\n",
    "    attn_only=False,\n",
    ")"
   ]
  },
  {
   "cell_type": "code",
   "execution_count": 3,
   "id": "143ccb86-1564-4218-9053-f674416cfb07",
   "metadata": {},
   "outputs": [],
   "source": [
    "checkpoint_path = './multiplication_model.pt'\n",
    "\n",
    "\n",
    "transformer_config = dict(\n",
    "    d_vocab=512,\n",
    "    n_layers=1,\n",
    "    d_model=1024,\n",
    "    d_head=256,\n",
    "    n_heads=4,\n",
    "    d_mlp=4096,\n",
    "    n_ctx=5,\n",
    "    act_fn=\"relu\",  # gelu?\n",
    "    normalization_type=None,\n",
    "    attn_only=False,\n",
    ")"
   ]
  },
  {
   "cell_type": "code",
   "execution_count": 4,
   "id": "416f5aa5-6d10-4c37-984e-93aa741c94ca",
   "metadata": {},
   "outputs": [],
   "source": [
    "from argparse import Namespace\n",
    "from dataclasses import dataclass, asdict\n",
    "seed = 2\n",
    "\n",
    "\n",
    "\n",
    "\n",
    "@dataclass\n",
    "class TrainParams:\n",
    "    n_steps: int = int(1e8)\n",
    "    batch_size: int = 128\n",
    "    lr: float = 1e-4\n",
    "    wd: float = 1e-1\n",
    "    betas: tuple = (0.9, 0.98)\n",
    "    max_grad_norm: float = 1.0\n",
    "    num_epochs_X1: int = 500\n",
    "    num_epochs_X2: int = 500\n",
    "    prop_orig: float = 0.25\n",
    "    orig_held_out_frac: float = 0.01\n",
    "    swap_defs: bool = False # whether to swap the order of the defs\n",
    "    val_questions: int = 9\n",
    "    \n",
    "\n"
   ]
  },
  {
   "cell_type": "markdown",
   "id": "8993d4e0-0462-4813-a5da-0a62311f0ec0",
   "metadata": {},
   "source": [
    "# Setup"
   ]
  },
  {
   "cell_type": "code",
   "execution_count": 5,
   "id": "8dc9b4b1-e546-48cc-aa75-2e4ad3747e02",
   "metadata": {},
   "outputs": [],
   "source": [
    "import sys\n",
    "sys.path.append('..')"
   ]
  },
  {
   "cell_type": "code",
   "execution_count": 6,
   "id": "0031c9f1-ad7a-4f2f-bb0d-3281a5719fd1",
   "metadata": {},
   "outputs": [],
   "source": [
    "from data import create_datasets, seed_all, DataParams, Tokens, OOCL_Dataset, make_tbl_mask, create_orig_data, yield_data"
   ]
  },
  {
   "cell_type": "code",
   "execution_count": 7,
   "id": "23eda486-1d7d-40df-b059-39e83728297a",
   "metadata": {},
   "outputs": [],
   "source": [
    "import logging\n",
    "import torch\n",
    "from dataclasses import dataclass, asdict\n",
    "import numpy as np\n",
    "import time\n",
    "import os\n",
    "from tqdm.auto import tqdm\n",
    "from pathlib import Path\n",
    "import itertools\n",
    "import sys\n",
    "import random\n",
    "import torch.nn.functional as F\n",
    "from torch.utils.data import random_split, TensorDataset, DataLoader, Dataset\n",
    "import argparse\n",
    "from transformer_lens import HookedTransformer, HookedTransformerConfig\n",
    "import wandb\n",
    "from dotenv import load_dotenv\n",
    "from sympy import factorint\n",
    "from itertools import product\n",
    "from math import prod\n",
    "\n",
    "import os\n",
    "import random\n",
    "import numpy as np\n",
    "import torch\n",
    "from tqdm.auto import tqdm"
   ]
  },
  {
   "cell_type": "code",
   "execution_count": 8,
   "id": "9c28bea9-8752-4d61-81b0-3a7257e4526d",
   "metadata": {},
   "outputs": [],
   "source": [
    "def get_device():\n",
    "    #return 'cpu'\n",
    "    if torch.cuda.is_available():\n",
    "        return \"cuda\"\n",
    "    # elif torch.backends.mps.is_available():\n",
    "    #     return \"mps\"\n",
    "    else:\n",
    "        return \"cpu\""
   ]
  },
  {
   "cell_type": "code",
   "execution_count": 9,
   "id": "9d13fe28-229b-4f95-b252-0bb51acf81fb",
   "metadata": {},
   "outputs": [],
   "source": [
    "def loss_fn(logits, tokens):\n",
    "\n",
    "    # check whether question or def and compute loss appropriately\n",
    "    # logit shape: [batch, pos, vocab]\n",
    "    # token shape: [batch, pos]\n",
    "\n",
    "    mask = (tokens[:, 3] == 2*DataParams.mod + Tokens.padding)\n",
    "\n",
    "    def_logits = logits[mask]\n",
    "    def_tokens = tokens[mask].long()\n",
    "\n",
    "    q_logits = logits[~mask]\n",
    "    q_tokens = tokens[~mask].long()\n",
    "\n",
    "    def_logits = def_logits[:, 1].unsqueeze(1)\n",
    "    def_tokens = def_tokens[:, 2].unsqueeze(1)\n",
    "    def_log_probs = def_logits.log_softmax(-1)\n",
    "    def_correct_log_probs = def_log_probs.gather(-1, def_tokens[..., None])[..., 0]\n",
    "    \n",
    "    q_logits = q_logits[:, 2].unsqueeze(1)\n",
    "    q_tokens = q_tokens[:, 3].unsqueeze(1)\n",
    "    q_log_probs = q_logits.log_softmax(-1)\n",
    "    q_correct_log_probs = q_log_probs.gather(-1, q_tokens[..., None])[..., 0]\n",
    "\n",
    "    return -(def_correct_log_probs.sum() + q_correct_log_probs.sum())/(def_correct_log_probs.shape[0] + q_correct_log_probs.shape[0])\n"
   ]
  },
  {
   "cell_type": "code",
   "execution_count": 10,
   "id": "779d99c2-a67b-4666-9240-5fef019e4b90",
   "metadata": {},
   "outputs": [],
   "source": [
    "def evaluate(model, val_loader, device):\n",
    "    correct = 0\n",
    "    loss = 0.\n",
    "    total = 0\n",
    "    batches = 0\n",
    "\n",
    "    for batch in val_loader:\n",
    "        inputs = batch[0].to(device)\n",
    "\n",
    "        labels = inputs[:, -1]\n",
    "\n",
    "        with torch.no_grad():\n",
    "            output = model(inputs)\n",
    "            loss += loss_fn(output, inputs).item()\n",
    "            correct += (torch.argmax(output[:, -2, :], dim=1) == labels).sum()\n",
    "\n",
    "        total += inputs.shape[0]\n",
    "        batches += 1\n",
    "\n",
    "    acc = correct / total\n",
    "    loss = loss/batches\n",
    "    return acc, loss"
   ]
  },
  {
   "cell_type": "code",
   "execution_count": null,
   "id": "8ab1de72-8943-4eb6-bfd5-d5f53991834d",
   "metadata": {},
   "outputs": [],
   "source": []
  },
  {
   "cell_type": "markdown",
   "id": "0bae8695-44b4-4259-815e-7de8c7a2f818",
   "metadata": {},
   "source": [
    "# Train"
   ]
  },
  {
   "cell_type": "code",
   "execution_count": 11,
   "id": "2f336bca-fa82-477f-812a-d076701bbefc",
   "metadata": {},
   "outputs": [],
   "source": [
    "# int_by_set = {\n",
    "#     'DtQ1': [57, 103, 99, 3, 111, 59, 73, 22, 30, 25, 47, 69, 23, 67, 75, 16, 85, 29, 2, 76, 8, 107, 43, 84, 98, 44, 46, 115, 80, 37], \n",
    "#     'DfQ2': [50, 72, 118, 20, 93, 10, 52, 14, 83, 6, 28, 15, 34, 48, 114, 104, 88, 13, 91, 54, 112, 58, 102, 95, 21, 24, 19, 94, 35, 109], \n",
    "#     'Dt3': [4, 81, 82, 41, 31, 86, 63, 0, 110, 11, 1, 92, 7, 116, 66, 56, 119, 70, 26, 78, 40, 55, 105, 89, 71, 60, 42, 87, 9, 117], \n",
    "#     'Df4': [39, 18, 77, 90, 68, 32, 79, 12, 96, 101, 36, 17, 64, 27, 74, 45, 61, 38, 106, 100, 51, 62, 65, 33, 5, 53, 113, 97, 49, 108]\n",
    "# }\n",
    "\n",
    "\n",
    "# int_by_set = {\n",
    "#     'DtQ1': [119, 81, 20, 90, 68, 41, 4, 79, 38, 10, 14, 95, 22, 78, 114, 71, 73, 52, 94, 9, 82, 116, 96, 93, 39, 36, 105, 50, 16, 33], \n",
    "#     'DfQ2': [5, 30, 19, 59, 74, 24, 104, 21, 18, 51, 42, 61, 65, 84, 64, 35, 113, 11, 66, 80, 112, 7, 31, 98, 43, 6, 25, 45, 117, 47], \n",
    "#     'Dt3': [99, 46, 88, 23, 103, 53, 86, 37, 58, 76, 118, 44, 91, 70, 111, 56, 28, 67, 85, 54, 27, 106, 1, 69, 107, 87, 2, 101, 40, 13], \n",
    "#     'Df4': [75, 29, 92, 34, 109, 89, 0, 110, 77, 55, 49, 3, 62, 12, 26, 100, 48, 83, 60, 57, 115, 63, 15, 32, 8, 97, 102, 108, 72, 17]\n",
    "# }"
   ]
  },
  {
   "cell_type": "code",
   "execution_count": 12,
   "id": "627d8130-cc5a-4210-bb20-84fb24cd20c9",
   "metadata": {},
   "outputs": [],
   "source": [
    "try:\n",
    "    from prettytable import PrettyTable\n",
    "except:\n",
    "    ! pip install -q prettytable\n",
    "    from prettytable import PrettyTable\n",
    "\n",
    "def count_parameters(model):\n",
    "    from prettytable import PrettyTable\n",
    "\n",
    "    table = PrettyTable([\"Modules\", \"Parameters\"])\n",
    "    total_params = 0\n",
    "    for name, parameter in model.named_parameters():\n",
    "        if not parameter.requires_grad: continue\n",
    "        params = parameter.numel()\n",
    "        table.add_row([name, params])\n",
    "        total_params+=params\n",
    "    print(table)\n",
    "    print(f\"Total Trainable Params: {total_params}\")\n",
    "    return total_params"
   ]
  },
  {
   "cell_type": "code",
   "execution_count": 13,
   "id": "232aa58b-38e8-4dcf-9252-0bb6c0a84a95",
   "metadata": {},
   "outputs": [],
   "source": [
    "# noisy_labels = {119+n for n in int_by_set['DfQ2']}\n",
    "\n",
    "# def randomize_noisy_labels(tokens):\n",
    "#     noisy_label_mask = torch.tensor(list(map(lambda x: any(int(l) in noisy_labels for l in x) , tokens[:, :2])))\n",
    "#     noisy_label_mask = noisy_label_mask & (tokens[:, 0] != 242)\n",
    "#     tokens[noisy_label_mask][:, -1] = torch.randint(0, 120*2, size=(len(tokens[noisy_label_mask]),))"
   ]
  },
  {
   "cell_type": "code",
   "execution_count": 14,
   "id": "a284c03c-2be1-476f-b1e4-d0cf1d03f11a",
   "metadata": {},
   "outputs": [],
   "source": [
    "def get_weight_norms(model):\n",
    "    return {f'wnorm/{n}':p.detach().norm().item() for n,p in model.named_parameters()}"
   ]
  },
  {
   "cell_type": "code",
   "execution_count": 17,
   "id": "462010da-d6dd-4244-85c8-7709d5f0aae7",
   "metadata": {},
   "outputs": [],
   "source": [
    "def train_iml(args, checkpoint_path=checkpoint_path):\n",
    "    mod = DataParams.mod\n",
    "\n",
    "\n",
    "    def get_grad_cos_sims(numbers):\n",
    "        cos_sims = []\n",
    "        for n in numbers:\n",
    "            \n",
    "            definition = definitions[definitions[:, 1] == (119+n)]\n",
    "        \n",
    "            question_mask = (questions_X2[:, 0] == (119+n)) | (questions_X2[:, 1] == (119+n))\n",
    "            questions = questions_X2[question_mask]\n",
    "        \n",
    "            d_grads = get_flat_grad(model, definition)\n",
    "            q_grads = get_flat_grad(model, questions)\n",
    "        \n",
    "            cos_sim = F.cosine_similarity(d_grads, q_grads, dim=0)\n",
    "        \n",
    "            cos_sims.append(cos_sim)\n",
    "        return cos_sims\n",
    "\n",
    "    # ******* INIT MODEL ***********\n",
    "    seed = args.seed\n",
    "    seed_all(args.seed)\n",
    "    new_transformer_config = transformer_config\n",
    "    new_transformer_config.update(dict(\n",
    "        d_vocab=2*mod + 4,  # 3 special tokens + mod vars\n",
    "    ))\n",
    "    new_cfg = HookedTransformerConfig(**new_transformer_config)\n",
    "    new_model = HookedTransformer(new_cfg)\n",
    "    state_dict = torch.load(checkpoint_path, map_location='cpu')\n",
    "    new_model.load_state_dict(state_dict)\n",
    "    new_model.to(get_device())\n",
    "    \n",
    "    model = new_model\n",
    "\n",
    "    # ********* END MODEL\n",
    "\n",
    "    # ********* DATA\n",
    "    seed_all(seed)\n",
    "    \n",
    "    \n",
    "    # divide the integers into 4 equally sized sets\n",
    "    size = mod // 4\n",
    "    rem = mod % 4\n",
    "    \n",
    "    numbers = list(range(DataParams.mod))\n",
    "    random.shuffle(numbers)\n",
    "    \n",
    "    train_params = TrainParams()\n",
    "        \n",
    "    int_by_set = {}\n",
    "    int_by_set['DtQ1'] = numbers[0:size]\n",
    "    int_by_set['DfQ2'] = numbers[size:2*size]\n",
    "    int_by_set['Dt3'] = numbers[2*size:3*size]\n",
    "    int_by_set['Df4'] = numbers[3*size:mod]\n",
    "    \n",
    "    train_sets, test_sets = create_datasets(int_by_set)\n",
    "    orig_args = make_tbl_mask(mod=DataParams.mod, method='prod', frac_held_out=train_params.orig_held_out_frac)\n",
    "    \n",
    "    \n",
    "    batch_size = train_params.batch_size\n",
    "    \n",
    "    # unpack orig_args for use in valid_loader\n",
    "    \n",
    "    x_vv, y_vv, z_vv, train_vv, valid_vv = orig_args\n",
    "    \n",
    "    device = get_device()\n",
    "    \n",
    "    X1_dataset = OOCL_Dataset(train_sets['X1'], create_orig_data, orig_args, train_params.prop_orig)\n",
    "    X2_dataset = OOCL_Dataset(train_sets['X2'], create_orig_data, orig_args, train_params.prop_orig)\n",
    "    \n",
    "    X1_loader = DataLoader(X1_dataset, batch_size=batch_size, shuffle=True)\n",
    "    X2_loader = DataLoader(X2_dataset, batch_size=batch_size, shuffle=True)\n",
    "    \n",
    "    orig_data_valid_loader = yield_data(train_params.batch_size, x_vv, y_vv, z_vv, valid_vv)\n",
    "    \n",
    "    test_set_loaders = {}\n",
    "    \n",
    "    for s in test_sets:\n",
    "        test_set_loaders[s] = DataLoader(TensorDataset(test_sets[s].to(dtype=torch.int)), batch_size=train_params.batch_size, shuffle=False)\n",
    "    \n",
    "    \n",
    "    questions_X2 = []\n",
    "    \n",
    "    for batch in test_set_loaders['Dt3']:\n",
    "        questions_X2.append(batch[0])\n",
    "    \n",
    "    \n",
    "    for batch in test_set_loaders['Df4']:\n",
    "        questions_X2.append(batch[0])\n",
    "    \n",
    "    \n",
    "    questions_X2 = torch.cat(questions_X2, dim=0)\n",
    "    \n",
    "    \n",
    "    definitions = []\n",
    "    \n",
    "    for tokens in X2_loader:\n",
    "        tokens = tokens.squeeze(1)\n",
    "        tokens = tokens.to(device)\n",
    "        definitions.append(tokens)\n",
    "    \n",
    "    definitions = torch.cat(definitions)\n",
    "    \n",
    "    \n",
    "    def get_flat_grad(model, tokens):\n",
    "        for p in model.parameters():\n",
    "            p.requires_grad_(True)\n",
    "            p.grad = None\n",
    "        \n",
    "        logits = model(tokens)\n",
    "        loss = loss_fn(logits, tokens)\n",
    "        loss.backward()\n",
    "    \n",
    "        grads = []\n",
    "        for p in model.parameters():\n",
    "            grads.append(p.grad.detach().flatten())\n",
    "        grads = torch.cat(grads)\n",
    "        return grads\n",
    "\n",
    "\n",
    "    def get_grad_norms(model, tokens):\n",
    "        for p in model.parameters():\n",
    "            p.requires_grad_(True)\n",
    "            p.grad = None\n",
    "        \n",
    "        logits = model(tokens)\n",
    "        loss = loss_fn(logits, tokens)\n",
    "        loss.backward()\n",
    "    \n",
    "        grads = {}\n",
    "        for n,p in model.named_parameters():\n",
    "            grads[f'gradnorm/{n}'] = p.grad.detach().norm().item()\n",
    "        return grads\n",
    "    \n",
    "    \n",
    "    \n",
    "    def get_metrics(model):\n",
    "        val_acc_DtQ1, val_loss_DtQ1 = evaluate(model, test_set_loaders['DtQ1'], device)\n",
    "        val_acc_DfQ2, val_loss_DfQ2 = evaluate(model, test_set_loaders['DfQ2'], device)\n",
    "        val_acc_Dt3, val_loss_Dt3 = evaluate(model, test_set_loaders['Dt3'], device)\n",
    "        val_acc_Df4, val_loss_Df4 = evaluate(model, test_set_loaders['Df4'], device)\n",
    "        with torch.no_grad():\n",
    "            # logging.info(tokens)\n",
    "            tokens = next(orig_data_valid_loader)\n",
    "            tokens = tokens.to(device)\n",
    "            logits = model(tokens)\n",
    "            loss = loss_fn(logits, tokens)\n",
    "            orig_data_valid_loss = loss.item()\n",
    "        metrics = {\n",
    "    \n",
    "                        # \"train/loss\": train_loss,\n",
    "                        \"valid_DtQ1/acc\": val_acc_DtQ1,\n",
    "                        \"valid_DfQ2/acc\": val_acc_DfQ2,\n",
    "                        \"valid_DtQ1/loss\": val_loss_DtQ1,\n",
    "                        \"valid_DfQ2/loss\": val_loss_DfQ2,\n",
    "        \n",
    "                        \"valid_Dt3/acc\": val_acc_Dt3,\n",
    "                        \"valid_Df4/acc\": val_acc_Df4,\n",
    "                        \"valid_Dt3/loss\": val_loss_Dt3,\n",
    "                        \"valid_Df4/loss\": val_loss_Df4,\n",
    "        \n",
    "                        \"val/loss\": (val_loss_DtQ1+val_loss_DfQ2)/2,\n",
    "                        \"orig_data_valid_loss\": orig_data_valid_loss,\n",
    "                        **get_weight_norms(model),\n",
    "                    }\n",
    "        return metrics\n",
    "    \n",
    "    \n",
    "    for tokens in X1_loader:\n",
    "        tokens = tokens.squeeze(1)\n",
    "        tokens = tokens.to(device)\n",
    "        break\n",
    "\n",
    "    # ********* END DATA\n",
    "    \n",
    "    wandb.init(\n",
    "        project=\"misha-iml\",\n",
    "        group=args.wandb_group_name,\n",
    "        name=args.wandb_experiment_name,\n",
    "        config={\n",
    "            **asdict(DataParams()),\n",
    "            **asdict(train_params),\n",
    "            **transformer_config,\n",
    "        }\n",
    "    )\n",
    "    print(f'seed={args.seed}')\n",
    "    print('int_by_set')\n",
    "    print(int_by_set)\n",
    "    print('loaded from', checkpoint_path)\n",
    "    count_parameters(model)\n",
    "    \n",
    "    optimizer = torch.optim.AdamW(model.parameters(), lr=train_params.lr, betas=train_params.betas, weight_decay=train_params.wd)\n",
    "    # optimizer = torch.optim.SGD(model.parameters(), lr=train_params.lr, weight_decay=train_params.wd)\n",
    "    losses = []\n",
    "    \n",
    "    pbar = tqdm(range(train_params.num_epochs_X1))\n",
    "    step = 0\n",
    "    for epoch in pbar:\n",
    "        model.train()\n",
    "        for tokens in X1_loader:\n",
    "            tokens = tokens.squeeze(1)\n",
    "            tokens = tokens.to(device)\n",
    "            \n",
    "            # randomize_noisy_labels(tokens)\n",
    "            \n",
    "            logits = model(tokens)\n",
    "            loss = loss_fn(logits, tokens)\n",
    "            loss.backward()\n",
    "            if train_params.max_grad_norm is not None:\n",
    "                torch.nn.utils.clip_grad_norm_(model.parameters(), train_params.max_grad_norm)\n",
    "            optimizer.step()\n",
    "            optimizer.zero_grad()\n",
    "            losses.append(loss.item())\n",
    "    \n",
    "    \n",
    "        train_loss = np.mean(losses)\n",
    "        model.eval()\n",
    "        metrics = get_metrics(model)\n",
    "        metrics['train_loss'] = train_loss\n",
    "        metrics['step'] = step\n",
    "    \n",
    "        pbar.set_description(f'train_Loss={train_loss.item():.3f}')\n",
    "    \n",
    "        if wandb.run is not None:\n",
    "            wandb.log(metrics)\n",
    "    \n",
    "            if (epoch % args.log_grad_alignment_freq == 0) or (epoch == train_params.num_epochs_X1 - 1):\n",
    "                cos_sim_Dt3 = np.mean(get_grad_cos_sims(int_by_set['Dt3']))\n",
    "                cos_sim_Df4 = np.mean(get_grad_cos_sims(int_by_set['Df4']))\n",
    "                \n",
    "                wandb.log({\n",
    "                    'step': step,\n",
    "                    'grad_cos_sim_Dt3': cos_sim_Dt3,\n",
    "                    'grad_cos_sim_Df4': cos_sim_Df4,\n",
    "                })\n",
    "    \n",
    "        step += 1\n",
    "    \n",
    "    checkpoint_path = Path(checkpoint_path)\n",
    "    new_checkpoint_path = checkpoint_path.parent / ('stage1__'+checkpoint_path.name)\n",
    "    \n",
    "    torch.save(model.state_dict(), new_checkpoint_path)\n",
    "    print(f'saved to {new_checkpoint_path}')\n",
    "    \n",
    "    optimizer = torch.optim.AdamW(model.parameters(), lr=train_params.lr, betas=train_params.betas, weight_decay=train_params.wd)\n",
    "    # optimizer = torch.optim.SGD(model.parameters(), lr=train_params.lr, weight_decay=train_params.wd)\n",
    "    losses = []\n",
    "    \n",
    "    for epoch in tqdm(range(train_params.num_epochs_X2)):\n",
    "        model.train()\n",
    "        for tokens in X2_loader:\n",
    "            tokens = tokens.squeeze(1)\n",
    "            tokens = tokens.to(device)\n",
    "            logits = model(tokens)\n",
    "            loss = loss_fn(logits, tokens)\n",
    "            loss.backward()\n",
    "            \n",
    "            # model.W_E.grad[:120] = 0\n",
    "    \n",
    "            if train_params.max_grad_norm is not None:\n",
    "                torch.nn.utils.clip_grad_norm_(model.parameters(), train_params.max_grad_norm)\n",
    "            optimizer.step()\n",
    "            optimizer.zero_grad()\n",
    "            losses.append(loss.item())\n",
    "    \n",
    "    \n",
    "        train_loss = np.mean(losses)\n",
    "        model.eval()\n",
    "        metrics = get_metrics(model)\n",
    "        metrics['train_loss'] = train_loss\n",
    "        metrics['step'] = step\n",
    "\n",
    "        \n",
    "        if wandb.run is not None:\n",
    "            wandb.log(metrics)\n",
    "    \n",
    "    \n",
    "            if (epoch % args.log_grad_alignment_freq == 0) or (epoch == train_params.num_epochs_X2 - 1):\n",
    "                cos_sim_Dt3 = np.mean(get_grad_cos_sims(int_by_set['Dt3']))\n",
    "                cos_sim_Df4 = np.mean(get_grad_cos_sims(int_by_set['Df4']))\n",
    "                \n",
    "                wandb.log({\n",
    "                    'step': step,\n",
    "                    'grad_cos_sim_Dt3': cos_sim_Dt3,\n",
    "                    'grad_cos_sim_Df4': cos_sim_Df4,\n",
    "                })\n",
    "    \n",
    "        step += 1\n",
    "    \n",
    "    checkpoint_path = Path(checkpoint_path)\n",
    "    new_checkpoint_path = checkpoint_path.parent / ('stage2__'+checkpoint_path.name)\n",
    "    \n",
    "    torch.save(model.state_dict(), new_checkpoint_path)\n",
    "    print(f'saved to {new_checkpoint_path}')"
   ]
  },
  {
   "cell_type": "code",
   "execution_count": 18,
   "id": "083f7ba8-5e66-4f37-841d-506167b9392c",
   "metadata": {},
   "outputs": [
    {
     "name": "stdout",
     "output_type": "stream",
     "text": [
      "Moving model to device:  cpu\n"
     ]
    },
    {
     "name": "stderr",
     "output_type": "stream",
     "text": [
      "/Users/mykhailokilianovskyi/src/aisc_oocl_experiments/notebooks/../data.py:271: UserWarning: To copy construct from a tensor, it is recommended to use sourceTensor.clone().detach() or sourceTensor.clone().detach().requires_grad_(True), rather than torch.tensor(sourceTensor).\n",
      "  result_tensor = torch.tensor(Z).view(N, 1)\n",
      "\u001b[34m\u001b[1mwandb\u001b[0m: Currently logged in as: \u001b[33mkilianovski\u001b[0m. Use \u001b[1m`wandb login --relogin`\u001b[0m to force relogin\n"
     ]
    },
    {
     "data": {
      "text/html": [
       "wandb version 0.17.7 is available!  To upgrade, please run:\n",
       " $ pip install wandb --upgrade"
      ],
      "text/plain": [
       "<IPython.core.display.HTML object>"
      ]
     },
     "metadata": {},
     "output_type": "display_data"
    },
    {
     "data": {
      "text/html": [
       "Tracking run with wandb version 0.16.2"
      ],
      "text/plain": [
       "<IPython.core.display.HTML object>"
      ]
     },
     "metadata": {},
     "output_type": "display_data"
    },
    {
     "data": {
      "text/html": [
       "Run data is saved locally in <code>/Users/mykhailokilianovskyi/src/aisc_oocl_experiments/notebooks/wandb/run-20240816_123322-rd78eu3b</code>"
      ],
      "text/plain": [
       "<IPython.core.display.HTML object>"
      ]
     },
     "metadata": {},
     "output_type": "display_data"
    },
    {
     "data": {
      "text/html": [
       "Syncing run <strong><a href='https://wandb.ai/kilianovski/misha-iml/runs/rd78eu3b' target=\"_blank\">seed=0</a></strong> to <a href='https://wandb.ai/kilianovski/misha-iml' target=\"_blank\">Weights & Biases</a> (<a href='https://wandb.me/run' target=\"_blank\">docs</a>)<br/>"
      ],
      "text/plain": [
       "<IPython.core.display.HTML object>"
      ]
     },
     "metadata": {},
     "output_type": "display_data"
    },
    {
     "data": {
      "text/html": [
       " View project at <a href='https://wandb.ai/kilianovski/misha-iml' target=\"_blank\">https://wandb.ai/kilianovski/misha-iml</a>"
      ],
      "text/plain": [
       "<IPython.core.display.HTML object>"
      ]
     },
     "metadata": {},
     "output_type": "display_data"
    },
    {
     "data": {
      "text/html": [
       " View run at <a href='https://wandb.ai/kilianovski/misha-iml/runs/rd78eu3b' target=\"_blank\">https://wandb.ai/kilianovski/misha-iml/runs/rd78eu3b</a>"
      ],
      "text/plain": [
       "<IPython.core.display.HTML object>"
      ]
     },
     "metadata": {},
     "output_type": "display_data"
    },
    {
     "name": "stdout",
     "output_type": "stream",
     "text": [
      "seed=0\n",
      "int_by_set\n",
      "{'DtQ1': [57, 103, 99, 3, 111, 59, 73, 22, 30, 25, 47, 69, 23, 67, 75, 16, 85, 29, 2, 76, 8, 107, 43, 84, 98, 44, 46, 115, 80, 37], 'DfQ2': [50, 72, 118, 20, 93, 10, 52, 14, 83, 6, 28, 15, 34, 48, 114, 104, 88, 13, 91, 54, 112, 58, 102, 95, 21, 24, 19, 94, 35, 109], 'Dt3': [4, 81, 82, 41, 31, 86, 63, 0, 110, 11, 1, 92, 7, 116, 66, 56, 119, 70, 26, 78, 40, 55, 105, 89, 71, 60, 42, 87, 9, 117], 'Df4': [39, 18, 77, 90, 68, 32, 79, 12, 96, 101, 36, 17, 64, 27, 74, 45, 61, 38, 106, 100, 51, 62, 65, 33, 5, 53, 113, 97, 49, 108]}\n",
      "loaded from ./multiplication_model.pt\n",
      "+--------------------+------------+\n",
      "|      Modules       | Parameters |\n",
      "+--------------------+------------+\n",
      "|     embed.W_E      |   249856   |\n",
      "|  pos_embed.W_pos   |    5120    |\n",
      "| blocks.0.attn.W_Q  |  1048576   |\n",
      "| blocks.0.attn.W_O  |  1048576   |\n",
      "| blocks.0.attn.b_Q  |    1024    |\n",
      "| blocks.0.attn.b_O  |    1024    |\n",
      "| blocks.0.attn.W_K  |  1048576   |\n",
      "| blocks.0.attn.W_V  |  1048576   |\n",
      "| blocks.0.attn.b_K  |    1024    |\n",
      "| blocks.0.attn.b_V  |    1024    |\n",
      "| blocks.0.mlp.W_in  |  4194304   |\n",
      "| blocks.0.mlp.b_in  |    4096    |\n",
      "| blocks.0.mlp.W_out |  4194304   |\n",
      "| blocks.0.mlp.b_out |    1024    |\n",
      "|    unembed.W_U     |   249856   |\n",
      "|    unembed.b_U     |    244     |\n",
      "+--------------------+------------+\n",
      "Total Trainable Params: 13097204\n"
     ]
    },
    {
     "data": {
      "application/vnd.jupyter.widget-view+json": {
       "model_id": "c656fdbbe36e4e38a51e96126720ff2d",
       "version_major": 2,
       "version_minor": 0
      },
      "text/plain": [
       "  0%|          | 0/500 [00:00<?, ?it/s]"
      ]
     },
     "metadata": {},
     "output_type": "display_data"
    },
    {
     "name": "stdout",
     "output_type": "stream",
     "text": [
      "saved to stage1__multiplication_model.pt\n"
     ]
    },
    {
     "data": {
      "application/vnd.jupyter.widget-view+json": {
       "model_id": "bea23ab1fe3f4387ac5514099658c40c",
       "version_major": 2,
       "version_minor": 0
      },
      "text/plain": [
       "  0%|          | 0/500 [00:00<?, ?it/s]"
      ]
     },
     "metadata": {},
     "output_type": "display_data"
    },
    {
     "name": "stdout",
     "output_type": "stream",
     "text": [
      "saved to stage2__multiplication_model.pt\n"
     ]
    }
   ],
   "source": [
    "for seed in range(1):\n",
    "    args = Namespace(\n",
    "        model_path='./models/transformers/', \n",
    "        # model_name='grokking_prod_120_2_0.1_attnonly_True20240709_180213.pt', \n",
    "        wandb_group_name='Luans_model',\n",
    "        wandb_experiment_name=f'seed={seed}',\n",
    "        saved_model_name=None,\n",
    "        log_grad_alignment_freq=50,\n",
    "        seed=seed, \n",
    "        save_steps=[500, 950])\n",
    "\n",
    "\n",
    "    train_iml(args)"
   ]
  },
  {
   "cell_type": "code",
   "execution_count": 19,
   "id": "05d13672-992e-4027-a025-0af9acb14472",
   "metadata": {},
   "outputs": [
    {
     "name": "stdout",
     "output_type": "stream",
     "text": [
      "Moving model to device:  cpu\n"
     ]
    },
    {
     "name": "stderr",
     "output_type": "stream",
     "text": [
      "/Users/mykhailokilianovskyi/src/aisc_oocl_experiments/notebooks/../data.py:271: UserWarning: To copy construct from a tensor, it is recommended to use sourceTensor.clone().detach() or sourceTensor.clone().detach().requires_grad_(True), rather than torch.tensor(sourceTensor).\n",
      "  result_tensor = torch.tensor(Z).view(N, 1)\n"
     ]
    },
    {
     "data": {
      "text/html": [
       "Finishing last run (ID:rd78eu3b) before initializing another..."
      ],
      "text/plain": [
       "<IPython.core.display.HTML object>"
      ]
     },
     "metadata": {},
     "output_type": "display_data"
    },
    {
     "data": {
      "application/vnd.jupyter.widget-view+json": {
       "model_id": "",
       "version_major": 2,
       "version_minor": 0
      },
      "text/plain": [
       "VBox(children=(Label(value='0.001 MB of 0.001 MB uploaded\\r'), FloatProgress(value=1.0, max=1.0)))"
      ]
     },
     "metadata": {},
     "output_type": "display_data"
    },
    {
     "data": {
      "text/html": [
       "W&B sync reduced upload amount by 18.9%             "
      ],
      "text/plain": [
       "<IPython.core.display.HTML object>"
      ]
     },
     "metadata": {},
     "output_type": "display_data"
    },
    {
     "data": {
      "text/html": [
       "<style>\n",
       "    table.wandb td:nth-child(1) { padding: 0 10px; text-align: left ; width: auto;} td:nth-child(2) {text-align: left ; width: 100%}\n",
       "    .wandb-row { display: flex; flex-direction: row; flex-wrap: wrap; justify-content: flex-start; width: 100% }\n",
       "    .wandb-col { display: flex; flex-direction: column; flex-basis: 100%; flex: 1; padding: 10px; }\n",
       "    </style>\n",
       "<div class=\"wandb-row\"><div class=\"wandb-col\"><h3>Run history:</h3><br/><table class=\"wandb\"><tr><td>grad_cos_sim_Df4</td><td>█▄▃▄▄▃▃▃▄▄▄▄▃▂▂▂▂▁▁▂▁▁</td></tr><tr><td>grad_cos_sim_Dt3</td><td>▅█▇▇▇▇▆▇▇▇██▂▂▂▁▁▁▁▂▁▁</td></tr><tr><td>orig_data_valid_loss</td><td>▂▅▂▁▁▂▁▁▁▁▁▅▁▁▁▁▁▁▁▁▁▁▅▁▁█▁▂▁▁▁▁▁▁▁▁▁▁▁▁</td></tr><tr><td>step</td><td>▁▁▁▂▂▂▂▂▂▃▃▃▃▃▄▄▄▄▄▄▅▅▅▅▅▅▆▆▆▆▆▇▇▇▇▇▇███</td></tr><tr><td>train_loss</td><td>▄▂▂▂▁▁▁▁▁▁▁▁▁▁▁▁▁▁▁▁█▄▃▂▂▂▂▂▂▁▁▁▁▁▁▁▁▁▁▁</td></tr><tr><td>val/loss</td><td>▃▁▂▃▃▄▄▄▄▄▄▄▄▄▄▄▅▅▅▅▄▅▇█▇▇▆▆▆▆▆▆▇▇▇▇▇▇▇▇</td></tr><tr><td>valid_Df4/acc</td><td>▁▁▂▃▂▂▂▂▃▂▄▃▃▃▅▅▅▅▆▇▃▂▂▃▄▄▆███▇▇▇▇▇▇▇▇▇▇</td></tr><tr><td>valid_Df4/loss</td><td>▁▁▂▃▃▃▃▃▃▃▃▃▃▃▄▃▄▄▅▅▄▅▆▇▇▇▇▇▇▇▇▇▇███████</td></tr><tr><td>valid_DfQ2/acc</td><td>▁▇▇▆▆▆▆▇▇▇▇▇██████▇▇▇▇▆▆▆▇▇▇▇▆▇▇▆▆▆▆▆▆▆▇</td></tr><tr><td>valid_DfQ2/loss</td><td>▂▁▂▃▃▄▄▄▄▄▄▄▄▄▄▄▄▅▅▅▄▅▇██▇▆▇▇▇▇▇▇███████</td></tr><tr><td>valid_Dt3/acc</td><td>▁▃▂▂▂▂▂▃▂▃▃▃▂▂▂▃▂▃▂▂▅▅▄▆▅▇██▇▆▇▇▇▆▇▆▆▆▇▆</td></tr><tr><td>valid_Dt3/loss</td><td>▁▂▃▄▄▄▄▄▅▅▅▅▅▅▅▅▆▆██▆▆▇███▇▇▇▇▇▇████████</td></tr><tr><td>valid_DtQ1/acc</td><td>▁▆▆▆▇▇▇▇▇▇▇▇██████████▇▇▇▇██▇▇▇▇▇▇▇▇▇▇▇▇</td></tr><tr><td>valid_DtQ1/loss</td><td>▅▁▂▃▃▄▄▄▄▅▄▄▄▄▄▄▅▅▅▅▅▆▇█▇▆▅▆▅▅▆▆▆▆▆▆▆▆▆▆</td></tr><tr><td>wnorm/blocks.0.attn.W_K</td><td>▁▃▄▄▅▅▅▅▅▅▅▅▅▅▅▅▄▄▄▄▅▆▇█████████████████</td></tr><tr><td>wnorm/blocks.0.attn.W_O</td><td>▁▂▄▅▅▆▆▆▆▆▆▆▆▆▆▆▆▆▆▆▆▆▇█████████████████</td></tr><tr><td>wnorm/blocks.0.attn.W_Q</td><td>▁▃▅▆▇▇▇▇▇▇▇█▇▇▇▇▇▇▇▇▇▇██████████████████</td></tr><tr><td>wnorm/blocks.0.attn.W_V</td><td>▁▂▄▅▅▆▆▆▆▆▆▆▆▆▆▆▆▆▆▆▆▆▇█████████████████</td></tr><tr><td>wnorm/blocks.0.attn.b_K</td><td>▅█▆▆▆▅▅▅▆▆▅▅▅▅▅▅▅▅▄▄▄▄▅▃▂▁▁▁▁▁▁▂▂▁▁▂▂▂▂▁</td></tr><tr><td>wnorm/blocks.0.attn.b_O</td><td>▂▁▂▄▅▅▆▆▇▇▇▇▇▇▇▇█████▇▇▇▇▇▇▇▇▇▇▇▇▇▇▇████</td></tr><tr><td>wnorm/blocks.0.attn.b_Q</td><td>▁▁▂▃▃▃▃▃▄▄▄▄▄▄▄▄▄▄▄▄▄▅▅▆▆▆▆▆▆▇▇▇▇▇▇▇▇███</td></tr><tr><td>wnorm/blocks.0.attn.b_V</td><td>▁▁▂▅▆▆▇▇█▇▇▇▇▇▇▇████▇▆▇▇▇▇▇▇████████████</td></tr><tr><td>wnorm/blocks.0.mlp.W_in</td><td>▁▂▃▄▅▅▅▅▆▆▆▆▆▆▆▆▆▆▆▆▆▆▇▇▇▇██████████████</td></tr><tr><td>wnorm/blocks.0.mlp.W_out</td><td>▁▂▄▅▅▅▆▆▆▆▆▆▆▆▆▆▆▆▆▆▆▇▇▇▇███████████████</td></tr><tr><td>wnorm/blocks.0.mlp.b_in</td><td>█▆▆▆▅▅▄▄▅▄▄▄▄▄▃▃▃▃▄▃▃▃▃▂▂▂▂▁▁▁▁▁▁▁▁▁▁▁▁▁</td></tr><tr><td>wnorm/blocks.0.mlp.b_out</td><td>▁▂▆▇▇▇▇███▇▇▇▇▇▆▇▆▆▆▇▇█████████████▇▇▇▇▇</td></tr><tr><td>wnorm/embed.W_E</td><td>▁▂▂▃▃▃▃▃▄▄▄▄▅▅▅▆▆▆▇▇▇▇▇█████████████████</td></tr><tr><td>wnorm/pos_embed.W_pos</td><td>▁▂▄▅▅▅▅▅▅▅▅▅▅▅▅▅▅▅▅▅▅▅▆▇▇▇▇▇▇▇▇▇▇▇▇█████</td></tr><tr><td>wnorm/unembed.W_U</td><td>▁▄▆▆▆▆▆▆▆▆▇▇▇▇▇▇▇▇▇▇▇▇██████████████████</td></tr><tr><td>wnorm/unembed.b_U</td><td>▁▅▆▆▆▆▆▆▆▆▆▅▅▅▅▅▅▅▅▅▅▇██████████████████</td></tr></table><br/></div><div class=\"wandb-col\"><h3>Run summary:</h3><br/><table class=\"wandb\"><tr><td>grad_cos_sim_Df4</td><td>-0.25575</td></tr><tr><td>grad_cos_sim_Dt3</td><td>-0.08119</td></tr><tr><td>orig_data_valid_loss</td><td>7e-05</td></tr><tr><td>step</td><td>999</td></tr><tr><td>train_loss</td><td>0.33828</td></tr><tr><td>val/loss</td><td>4.76194</td></tr><tr><td>valid_Df4/acc</td><td>0.10556</td></tr><tr><td>valid_Df4/loss</td><td>26.06919</td></tr><tr><td>valid_DfQ2/acc</td><td>0.57778</td></tr><tr><td>valid_DfQ2/loss</td><td>6.81214</td></tr><tr><td>valid_Dt3/acc</td><td>0.09167</td></tr><tr><td>valid_Dt3/loss</td><td>18.52819</td></tr><tr><td>valid_DtQ1/acc</td><td>0.74815</td></tr><tr><td>valid_DtQ1/loss</td><td>2.71175</td></tr><tr><td>wnorm/blocks.0.attn.W_K</td><td>21.80322</td></tr><tr><td>wnorm/blocks.0.attn.W_O</td><td>20.48446</td></tr><tr><td>wnorm/blocks.0.attn.W_Q</td><td>35.2519</td></tr><tr><td>wnorm/blocks.0.attn.W_V</td><td>21.45446</td></tr><tr><td>wnorm/blocks.0.attn.b_K</td><td>0.01129</td></tr><tr><td>wnorm/blocks.0.attn.b_O</td><td>1.20101</td></tr><tr><td>wnorm/blocks.0.attn.b_Q</td><td>1.38878</td></tr><tr><td>wnorm/blocks.0.attn.b_V</td><td>0.4191</td></tr><tr><td>wnorm/blocks.0.mlp.W_in</td><td>22.65845</td></tr><tr><td>wnorm/blocks.0.mlp.W_out</td><td>23.23943</td></tr><tr><td>wnorm/blocks.0.mlp.b_in</td><td>0.93297</td></tr><tr><td>wnorm/blocks.0.mlp.b_out</td><td>1.38177</td></tr><tr><td>wnorm/embed.W_E</td><td>8.89779</td></tr><tr><td>wnorm/pos_embed.W_pos</td><td>1.45503</td></tr><tr><td>wnorm/unembed.W_U</td><td>11.4128</td></tr><tr><td>wnorm/unembed.b_U</td><td>1.07059</td></tr></table><br/></div></div>"
      ],
      "text/plain": [
       "<IPython.core.display.HTML object>"
      ]
     },
     "metadata": {},
     "output_type": "display_data"
    },
    {
     "data": {
      "text/html": [
       " View run <strong style=\"color:#cdcd00\">seed=0</strong> at: <a href='https://wandb.ai/kilianovski/misha-iml/runs/rd78eu3b' target=\"_blank\">https://wandb.ai/kilianovski/misha-iml/runs/rd78eu3b</a><br/> View job at <a href='https://wandb.ai/kilianovski/misha-iml/jobs/QXJ0aWZhY3RDb2xsZWN0aW9uOjQxMzgxNzE1Mg==/version_details/v2' target=\"_blank\">https://wandb.ai/kilianovski/misha-iml/jobs/QXJ0aWZhY3RDb2xsZWN0aW9uOjQxMzgxNzE1Mg==/version_details/v2</a><br/>Synced 6 W&B file(s), 0 media file(s), 2 artifact file(s) and 0 other file(s)"
      ],
      "text/plain": [
       "<IPython.core.display.HTML object>"
      ]
     },
     "metadata": {},
     "output_type": "display_data"
    },
    {
     "data": {
      "text/html": [
       "Find logs at: <code>./wandb/run-20240816_123322-rd78eu3b/logs</code>"
      ],
      "text/plain": [
       "<IPython.core.display.HTML object>"
      ]
     },
     "metadata": {},
     "output_type": "display_data"
    },
    {
     "data": {
      "text/html": [
       "Successfully finished last run (ID:rd78eu3b). Initializing new run:<br/>"
      ],
      "text/plain": [
       "<IPython.core.display.HTML object>"
      ]
     },
     "metadata": {},
     "output_type": "display_data"
    },
    {
     "data": {
      "application/vnd.jupyter.widget-view+json": {
       "model_id": "74b0b295cb7c4fab85bbc37d9b36e7b2",
       "version_major": 2,
       "version_minor": 0
      },
      "text/plain": [
       "VBox(children=(Label(value='Waiting for wandb.init()...\\r'), FloatProgress(value=0.011155385645623836, max=1.0…"
      ]
     },
     "metadata": {},
     "output_type": "display_data"
    },
    {
     "data": {
      "text/html": [
       "wandb version 0.17.7 is available!  To upgrade, please run:\n",
       " $ pip install wandb --upgrade"
      ],
      "text/plain": [
       "<IPython.core.display.HTML object>"
      ]
     },
     "metadata": {},
     "output_type": "display_data"
    },
    {
     "data": {
      "text/html": [
       "Tracking run with wandb version 0.16.2"
      ],
      "text/plain": [
       "<IPython.core.display.HTML object>"
      ]
     },
     "metadata": {},
     "output_type": "display_data"
    },
    {
     "data": {
      "text/html": [
       "Run data is saved locally in <code>/Users/mykhailokilianovskyi/src/aisc_oocl_experiments/notebooks/wandb/run-20240816_125505-ryzjwgx7</code>"
      ],
      "text/plain": [
       "<IPython.core.display.HTML object>"
      ]
     },
     "metadata": {},
     "output_type": "display_data"
    },
    {
     "data": {
      "text/html": [
       "Syncing run <strong><a href='https://wandb.ai/kilianovski/misha-iml/runs/ryzjwgx7' target=\"_blank\">seed=2</a></strong> to <a href='https://wandb.ai/kilianovski/misha-iml' target=\"_blank\">Weights & Biases</a> (<a href='https://wandb.me/run' target=\"_blank\">docs</a>)<br/>"
      ],
      "text/plain": [
       "<IPython.core.display.HTML object>"
      ]
     },
     "metadata": {},
     "output_type": "display_data"
    },
    {
     "data": {
      "text/html": [
       " View project at <a href='https://wandb.ai/kilianovski/misha-iml' target=\"_blank\">https://wandb.ai/kilianovski/misha-iml</a>"
      ],
      "text/plain": [
       "<IPython.core.display.HTML object>"
      ]
     },
     "metadata": {},
     "output_type": "display_data"
    },
    {
     "data": {
      "text/html": [
       " View run at <a href='https://wandb.ai/kilianovski/misha-iml/runs/ryzjwgx7' target=\"_blank\">https://wandb.ai/kilianovski/misha-iml/runs/ryzjwgx7</a>"
      ],
      "text/plain": [
       "<IPython.core.display.HTML object>"
      ]
     },
     "metadata": {},
     "output_type": "display_data"
    },
    {
     "name": "stdout",
     "output_type": "stream",
     "text": [
      "seed=2\n",
      "int_by_set\n",
      "{'DtQ1': [117, 98, 8, 2, 38, 89, 12, 62, 76, 0, 5, 1, 60, 90, 109, 116, 51, 6, 91, 13, 18, 37, 118, 24, 105, 52, 16, 26, 68, 66], 'DfQ2': [49, 36, 97, 107, 100, 9, 58, 63, 115, 42, 31, 111, 15, 78, 72, 86, 102, 14, 96, 33, 35, 84, 73, 99, 44, 19, 61, 104, 43, 25], 'Dt3': [28, 83, 82, 45, 93, 53, 57, 23, 70, 101, 80, 95, 17, 75, 41, 79, 88, 29, 30, 22, 71, 112, 67, 54, 48, 40, 59, 114, 3, 119], 'Df4': [34, 64, 56, 69, 47, 65, 92, 50, 81, 55, 20, 87, 74, 4, 113, 27, 77, 32, 39, 85, 103, 94, 21, 106, 46, 10, 11, 7, 108, 110]}\n",
      "loaded from ./multiplication_model.pt\n",
      "+--------------------+------------+\n",
      "|      Modules       | Parameters |\n",
      "+--------------------+------------+\n",
      "|     embed.W_E      |   249856   |\n",
      "|  pos_embed.W_pos   |    5120    |\n",
      "| blocks.0.attn.W_Q  |  1048576   |\n",
      "| blocks.0.attn.W_O  |  1048576   |\n",
      "| blocks.0.attn.b_Q  |    1024    |\n",
      "| blocks.0.attn.b_O  |    1024    |\n",
      "| blocks.0.attn.W_K  |  1048576   |\n",
      "| blocks.0.attn.W_V  |  1048576   |\n",
      "| blocks.0.attn.b_K  |    1024    |\n",
      "| blocks.0.attn.b_V  |    1024    |\n",
      "| blocks.0.mlp.W_in  |  4194304   |\n",
      "| blocks.0.mlp.b_in  |    4096    |\n",
      "| blocks.0.mlp.W_out |  4194304   |\n",
      "| blocks.0.mlp.b_out |    1024    |\n",
      "|    unembed.W_U     |   249856   |\n",
      "|    unembed.b_U     |    244     |\n",
      "+--------------------+------------+\n",
      "Total Trainable Params: 13097204\n"
     ]
    },
    {
     "data": {
      "application/vnd.jupyter.widget-view+json": {
       "model_id": "709dd460fb9f46b7befde3924e47911f",
       "version_major": 2,
       "version_minor": 0
      },
      "text/plain": [
       "  0%|          | 0/500 [00:00<?, ?it/s]"
      ]
     },
     "metadata": {},
     "output_type": "display_data"
    },
    {
     "name": "stdout",
     "output_type": "stream",
     "text": [
      "saved to stage1__multiplication_model.pt\n"
     ]
    },
    {
     "data": {
      "application/vnd.jupyter.widget-view+json": {
       "model_id": "91ea4317b18a459ba123dc6f715b789c",
       "version_major": 2,
       "version_minor": 0
      },
      "text/plain": [
       "  0%|          | 0/500 [00:00<?, ?it/s]"
      ]
     },
     "metadata": {},
     "output_type": "display_data"
    },
    {
     "name": "stdout",
     "output_type": "stream",
     "text": [
      "saved to stage2__multiplication_model.pt\n",
      "Moving model to device:  cpu\n"
     ]
    },
    {
     "name": "stderr",
     "output_type": "stream",
     "text": [
      "/Users/mykhailokilianovskyi/src/aisc_oocl_experiments/notebooks/../data.py:271: UserWarning: To copy construct from a tensor, it is recommended to use sourceTensor.clone().detach() or sourceTensor.clone().detach().requires_grad_(True), rather than torch.tensor(sourceTensor).\n",
      "  result_tensor = torch.tensor(Z).view(N, 1)\n"
     ]
    },
    {
     "data": {
      "text/html": [
       "Finishing last run (ID:ryzjwgx7) before initializing another..."
      ],
      "text/plain": [
       "<IPython.core.display.HTML object>"
      ]
     },
     "metadata": {},
     "output_type": "display_data"
    },
    {
     "data": {
      "application/vnd.jupyter.widget-view+json": {
       "model_id": "",
       "version_major": 2,
       "version_minor": 0
      },
      "text/plain": [
       "VBox(children=(Label(value='0.001 MB of 0.001 MB uploaded\\r'), FloatProgress(value=1.0, max=1.0)))"
      ]
     },
     "metadata": {},
     "output_type": "display_data"
    },
    {
     "data": {
      "text/html": [
       "<style>\n",
       "    table.wandb td:nth-child(1) { padding: 0 10px; text-align: left ; width: auto;} td:nth-child(2) {text-align: left ; width: 100%}\n",
       "    .wandb-row { display: flex; flex-direction: row; flex-wrap: wrap; justify-content: flex-start; width: 100% }\n",
       "    .wandb-col { display: flex; flex-direction: column; flex-basis: 100%; flex: 1; padding: 10px; }\n",
       "    </style>\n",
       "<div class=\"wandb-row\"><div class=\"wandb-col\"><h3>Run history:</h3><br/><table class=\"wandb\"><tr><td>grad_cos_sim_Df4</td><td>█▇▇▇▆▆▆▆▆▆▆▆▃▂▂▂▁▁▂▂▁▂</td></tr><tr><td>grad_cos_sim_Dt3</td><td>█▇▅▅▅▅▅▆▅▅▇▆▄▂▄▂▁▂▂▂▁▁</td></tr><tr><td>orig_data_valid_loss</td><td>▂▄▃▁▁▃▃▁▁▃▁▁▄▆▃▁▃▂█▁▁▁▆▃▂▁▁▁▁▁▁▁▁▁▁▁▁▁▁▁</td></tr><tr><td>step</td><td>▁▁▁▂▂▂▂▂▂▃▃▃▃▃▄▄▄▄▄▄▅▅▅▅▅▅▆▆▆▆▆▇▇▇▇▇▇███</td></tr><tr><td>train_loss</td><td>▄▂▂▂▁▁▁▁▁▁▁▁▁▁▁▁▁▁▁▁█▅▃▂▂▂▂▂▂▁▁▁▁▁▁▁▁▁▁▁</td></tr><tr><td>val/loss</td><td>▃▁▂▃▃▃▃▄▄▄▄▄▄▄▄▄▄▄▅▅▅▆▇▇▇▇▇▇▇▇▇▇▇▇▇▇▇▇██</td></tr><tr><td>valid_Df4/acc</td><td>▁▁▂▁▂▂▃▂▃▃▃▃▃▃▃▃▂▂▃▃▃▃▂▆▇▆██▇▇▇▇▇▇▆▅▆▆▆▆</td></tr><tr><td>valid_Df4/loss</td><td>▁▁▂▂▂▃▃▃▃▃▄▄▄▄▄▄▅▅▅▅▄▅▆▆▆▆▆▆▇▇▇▇▇▇▇▇████</td></tr><tr><td>valid_DfQ2/acc</td><td>▁██▇▆▇▇▇▇▇▇▇██▇███▇▇█▇▆▆▇▆▇▇▆▆▆▆▆▆▆▆▅▆▆▆</td></tr><tr><td>valid_DfQ2/loss</td><td>▂▁▂▃▄▄▄▄▄▄▄▅▅▅▅▅▅▅▅▅▆▇█▇▇▇▇▇█████▇▇▇▇▇██</td></tr><tr><td>valid_Dt3/acc</td><td>▁▂▂▂▁▁▁▂▂▁▂▂▄▂▂▂▃▃▂▂▁▃▅▆▆▅▅█▇▆▅▆▇▆▆▇▆▇▆▆</td></tr><tr><td>valid_Dt3/loss</td><td>▁▁▂▃▃▃▃▄▄▄▄▄▅▅▅▅▅▅▅▅▅▅▆▆▆▆▇▇▇▇▇██▇▇▇████</td></tr><tr><td>valid_DtQ1/acc</td><td>▁▆▇▆▆▆▇▇▇▇██▇▇▇▇▇█████▇▇▇▇▆▆▆▅▅▆▅▆▆▇▅▆▆▆</td></tr><tr><td>valid_DtQ1/loss</td><td>▅▁▁▂▂▂▂▂▂▂▂▂▂▃▃▃▃▃▃▃▃▃▆▆▆▆▆▆▇▇▇▇▇▆▆▆▇▇██</td></tr><tr><td>wnorm/blocks.0.attn.W_K</td><td>▁▂▃▄▄▄▄▄▄▄▄▄▄▄▄▄▄▄▄▄▄▆██████████████████</td></tr><tr><td>wnorm/blocks.0.attn.W_O</td><td>▁▂▄▅▆▆▆▆▆▆▆▇▇▆▆▆▆▆▆▆▆▆▇█████████████████</td></tr><tr><td>wnorm/blocks.0.attn.W_Q</td><td>▁▂▄▅▅▆▆▆▇▇▇▇▇▇▇▇▇▇▇▇▇▇██████████████████</td></tr><tr><td>wnorm/blocks.0.attn.W_V</td><td>▁▂▄▅▆▆▆▆▆▆▆▆▇▆▆▆▆▆▆▆▆▆▇█████████████████</td></tr><tr><td>wnorm/blocks.0.attn.b_K</td><td>▆▅▂▃▅▅▄▄▄▄▅▅▅▅▂▂▂▂▁▁▁▁▂▄▆▆▆████▇▇█▇▆▅▅▄▄</td></tr><tr><td>wnorm/blocks.0.attn.b_O</td><td>▃▁▁▃▄▅▅▆▆▇▇▇█████████▇▆▇▇▇▇▇█████████▇▇▇</td></tr><tr><td>wnorm/blocks.0.attn.b_Q</td><td>▁▂▄▄▅▅▅▅▆▆▆▆▆▆▆▆▆▆▆▆▇▇▇████████████████▇</td></tr><tr><td>wnorm/blocks.0.attn.b_V</td><td>▂▁▂▄▅▆▆▆▇▇▇▇▇███████▇▅▆▇▇▇▇▇▇▇▇▇▇▇▇▇▇▆▆▆</td></tr><tr><td>wnorm/blocks.0.mlp.W_in</td><td>▁▂▃▄▅▅▅▆▆▆▆▆▆▆▆▆▆▆▆▆▆▆▇▇████████████████</td></tr><tr><td>wnorm/blocks.0.mlp.W_out</td><td>▁▂▃▄▅▅▆▆▆▆▆▆▆▆▆▆▆▆▆▆▆▇▇▇████████████████</td></tr><tr><td>wnorm/blocks.0.mlp.b_in</td><td>█▅▅▅▅▅▅▅▄▅▅▄▃▃▃▂▃▃▃▂▃▂▂▂▃▂▂▂▃▃▃▂▂▂▂▂▂▁▁▁</td></tr><tr><td>wnorm/blocks.0.mlp.b_out</td><td>▁▁▄▆▆▆▇▇▇▇▇▇▇▇▇▇▇▇▇▇▇▇██████████████████</td></tr><tr><td>wnorm/embed.W_E</td><td>▁▂▂▃▃▃▃▄▄▄▄▄▅▅▅▆▆▆▇▇▇▇▇█████████████████</td></tr><tr><td>wnorm/pos_embed.W_pos</td><td>▁▂▃▄▅▅▅▅▅▅▆▆▆▆▆▆▆▆▆▆▆▆▆▇████████████████</td></tr><tr><td>wnorm/unembed.W_U</td><td>▁▄▅▆▆▆▆▆▆▆▆▆▆▆▆▆▆▇▇▇▇▇██████████████████</td></tr><tr><td>wnorm/unembed.b_U</td><td>▁▅▆▆▆▆▆▆▆▆▆▆▆▆▆▆▆▅▅▅▅▇██████████████████</td></tr></table><br/></div><div class=\"wandb-col\"><h3>Run summary:</h3><br/><table class=\"wandb\"><tr><td>grad_cos_sim_Df4</td><td>-0.13524</td></tr><tr><td>grad_cos_sim_Dt3</td><td>-0.04622</td></tr><tr><td>orig_data_valid_loss</td><td>1e-05</td></tr><tr><td>step</td><td>999</td></tr><tr><td>train_loss</td><td>0.36556</td></tr><tr><td>val/loss</td><td>6.77696</td></tr><tr><td>valid_Df4/acc</td><td>0.1</td></tr><tr><td>valid_Df4/loss</td><td>22.48138</td></tr><tr><td>valid_DfQ2/acc</td><td>0.52593</td></tr><tr><td>valid_DfQ2/loss</td><td>9.58669</td></tr><tr><td>valid_Dt3/acc</td><td>0.08611</td></tr><tr><td>valid_Dt3/loss</td><td>19.00029</td></tr><tr><td>valid_DtQ1/acc</td><td>0.66667</td></tr><tr><td>valid_DtQ1/loss</td><td>3.96723</td></tr><tr><td>wnorm/blocks.0.attn.W_K</td><td>22.30431</td></tr><tr><td>wnorm/blocks.0.attn.W_O</td><td>20.288</td></tr><tr><td>wnorm/blocks.0.attn.W_Q</td><td>35.77102</td></tr><tr><td>wnorm/blocks.0.attn.W_V</td><td>21.23017</td></tr><tr><td>wnorm/blocks.0.attn.b_K</td><td>0.01143</td></tr><tr><td>wnorm/blocks.0.attn.b_O</td><td>1.18244</td></tr><tr><td>wnorm/blocks.0.attn.b_Q</td><td>1.49779</td></tr><tr><td>wnorm/blocks.0.attn.b_V</td><td>0.40437</td></tr><tr><td>wnorm/blocks.0.mlp.W_in</td><td>22.64388</td></tr><tr><td>wnorm/blocks.0.mlp.W_out</td><td>23.17025</td></tr><tr><td>wnorm/blocks.0.mlp.b_in</td><td>0.93902</td></tr><tr><td>wnorm/blocks.0.mlp.b_out</td><td>1.41277</td></tr><tr><td>wnorm/embed.W_E</td><td>8.97932</td></tr><tr><td>wnorm/pos_embed.W_pos</td><td>1.45705</td></tr><tr><td>wnorm/unembed.W_U</td><td>11.53759</td></tr><tr><td>wnorm/unembed.b_U</td><td>1.07011</td></tr></table><br/></div></div>"
      ],
      "text/plain": [
       "<IPython.core.display.HTML object>"
      ]
     },
     "metadata": {},
     "output_type": "display_data"
    },
    {
     "data": {
      "text/html": [
       " View run <strong style=\"color:#cdcd00\">seed=2</strong> at: <a href='https://wandb.ai/kilianovski/misha-iml/runs/ryzjwgx7' target=\"_blank\">https://wandb.ai/kilianovski/misha-iml/runs/ryzjwgx7</a><br/> View job at <a href='https://wandb.ai/kilianovski/misha-iml/jobs/QXJ0aWZhY3RDb2xsZWN0aW9uOjQxMzgxNzE1Mg==/version_details/v2' target=\"_blank\">https://wandb.ai/kilianovski/misha-iml/jobs/QXJ0aWZhY3RDb2xsZWN0aW9uOjQxMzgxNzE1Mg==/version_details/v2</a><br/>Synced 6 W&B file(s), 0 media file(s), 0 artifact file(s) and 0 other file(s)"
      ],
      "text/plain": [
       "<IPython.core.display.HTML object>"
      ]
     },
     "metadata": {},
     "output_type": "display_data"
    },
    {
     "data": {
      "text/html": [
       "Find logs at: <code>./wandb/run-20240816_125505-ryzjwgx7/logs</code>"
      ],
      "text/plain": [
       "<IPython.core.display.HTML object>"
      ]
     },
     "metadata": {},
     "output_type": "display_data"
    },
    {
     "data": {
      "text/html": [
       "Successfully finished last run (ID:ryzjwgx7). Initializing new run:<br/>"
      ],
      "text/plain": [
       "<IPython.core.display.HTML object>"
      ]
     },
     "metadata": {},
     "output_type": "display_data"
    },
    {
     "data": {
      "application/vnd.jupyter.widget-view+json": {
       "model_id": "7bdc72fc2a524f4b93da6d6b328327b1",
       "version_major": 2,
       "version_minor": 0
      },
      "text/plain": [
       "VBox(children=(Label(value='Waiting for wandb.init()...\\r'), FloatProgress(value=0.011168222688138486, max=1.0…"
      ]
     },
     "metadata": {},
     "output_type": "display_data"
    },
    {
     "data": {
      "text/html": [
       "wandb version 0.17.7 is available!  To upgrade, please run:\n",
       " $ pip install wandb --upgrade"
      ],
      "text/plain": [
       "<IPython.core.display.HTML object>"
      ]
     },
     "metadata": {},
     "output_type": "display_data"
    },
    {
     "data": {
      "text/html": [
       "Tracking run with wandb version 0.16.2"
      ],
      "text/plain": [
       "<IPython.core.display.HTML object>"
      ]
     },
     "metadata": {},
     "output_type": "display_data"
    },
    {
     "data": {
      "text/html": [
       "Run data is saved locally in <code>/Users/mykhailokilianovskyi/src/aisc_oocl_experiments/notebooks/wandb/run-20240816_130439-jdiwqauk</code>"
      ],
      "text/plain": [
       "<IPython.core.display.HTML object>"
      ]
     },
     "metadata": {},
     "output_type": "display_data"
    },
    {
     "data": {
      "text/html": [
       "Syncing run <strong><a href='https://wandb.ai/kilianovski/misha-iml/runs/jdiwqauk' target=\"_blank\">seed=3</a></strong> to <a href='https://wandb.ai/kilianovski/misha-iml' target=\"_blank\">Weights & Biases</a> (<a href='https://wandb.me/run' target=\"_blank\">docs</a>)<br/>"
      ],
      "text/plain": [
       "<IPython.core.display.HTML object>"
      ]
     },
     "metadata": {},
     "output_type": "display_data"
    },
    {
     "data": {
      "text/html": [
       " View project at <a href='https://wandb.ai/kilianovski/misha-iml' target=\"_blank\">https://wandb.ai/kilianovski/misha-iml</a>"
      ],
      "text/plain": [
       "<IPython.core.display.HTML object>"
      ]
     },
     "metadata": {},
     "output_type": "display_data"
    },
    {
     "data": {
      "text/html": [
       " View run at <a href='https://wandb.ai/kilianovski/misha-iml/runs/jdiwqauk' target=\"_blank\">https://wandb.ai/kilianovski/misha-iml/runs/jdiwqauk</a>"
      ],
      "text/plain": [
       "<IPython.core.display.HTML object>"
      ]
     },
     "metadata": {},
     "output_type": "display_data"
    },
    {
     "name": "stdout",
     "output_type": "stream",
     "text": [
      "seed=3\n",
      "int_by_set\n",
      "{'DtQ1': [39, 83, 71, 93, 90, 51, 52, 116, 23, 35, 79, 28, 59, 84, 15, 86, 45, 98, 101, 109, 92, 57, 78, 9, 0, 65, 115, 31, 25, 11], 'DfQ2': [99, 41, 68, 67, 18, 2, 40, 112, 102, 10, 43, 37, 21, 119, 88, 7, 64, 48, 58, 14, 6, 36, 44, 42, 13, 61, 87, 62, 111, 22], 'Dt3': [53, 32, 26, 82, 55, 105, 27, 63, 72, 4, 12, 46, 17, 56, 73, 96, 54, 89, 76, 97, 34, 3, 38, 5, 118, 20, 110, 85, 108, 49], 'Df4': [66, 94, 95, 103, 19, 81, 50, 100, 104, 117, 106, 91, 24, 29, 70, 33, 113, 107, 1, 114, 8, 74, 80, 60, 77, 47, 16, 69, 75, 30]}\n",
      "loaded from ./multiplication_model.pt\n",
      "+--------------------+------------+\n",
      "|      Modules       | Parameters |\n",
      "+--------------------+------------+\n",
      "|     embed.W_E      |   249856   |\n",
      "|  pos_embed.W_pos   |    5120    |\n",
      "| blocks.0.attn.W_Q  |  1048576   |\n",
      "| blocks.0.attn.W_O  |  1048576   |\n",
      "| blocks.0.attn.b_Q  |    1024    |\n",
      "| blocks.0.attn.b_O  |    1024    |\n",
      "| blocks.0.attn.W_K  |  1048576   |\n",
      "| blocks.0.attn.W_V  |  1048576   |\n",
      "| blocks.0.attn.b_K  |    1024    |\n",
      "| blocks.0.attn.b_V  |    1024    |\n",
      "| blocks.0.mlp.W_in  |  4194304   |\n",
      "| blocks.0.mlp.b_in  |    4096    |\n",
      "| blocks.0.mlp.W_out |  4194304   |\n",
      "| blocks.0.mlp.b_out |    1024    |\n",
      "|    unembed.W_U     |   249856   |\n",
      "|    unembed.b_U     |    244     |\n",
      "+--------------------+------------+\n",
      "Total Trainable Params: 13097204\n"
     ]
    },
    {
     "data": {
      "application/vnd.jupyter.widget-view+json": {
       "model_id": "960724102189495ea4e5a0dadfcbf514",
       "version_major": 2,
       "version_minor": 0
      },
      "text/plain": [
       "  0%|          | 0/500 [00:00<?, ?it/s]"
      ]
     },
     "metadata": {},
     "output_type": "display_data"
    },
    {
     "name": "stdout",
     "output_type": "stream",
     "text": [
      "saved to stage1__multiplication_model.pt\n"
     ]
    },
    {
     "data": {
      "application/vnd.jupyter.widget-view+json": {
       "model_id": "9b081864e29c4fd0a8ed2d500affaf42",
       "version_major": 2,
       "version_minor": 0
      },
      "text/plain": [
       "  0%|          | 0/500 [00:00<?, ?it/s]"
      ]
     },
     "metadata": {},
     "output_type": "display_data"
    },
    {
     "name": "stdout",
     "output_type": "stream",
     "text": [
      "saved to stage2__multiplication_model.pt\n",
      "Moving model to device:  cpu\n"
     ]
    },
    {
     "name": "stderr",
     "output_type": "stream",
     "text": [
      "/Users/mykhailokilianovskyi/src/aisc_oocl_experiments/notebooks/../data.py:271: UserWarning: To copy construct from a tensor, it is recommended to use sourceTensor.clone().detach() or sourceTensor.clone().detach().requires_grad_(True), rather than torch.tensor(sourceTensor).\n",
      "  result_tensor = torch.tensor(Z).view(N, 1)\n"
     ]
    },
    {
     "data": {
      "text/html": [
       "Finishing last run (ID:jdiwqauk) before initializing another..."
      ],
      "text/plain": [
       "<IPython.core.display.HTML object>"
      ]
     },
     "metadata": {},
     "output_type": "display_data"
    },
    {
     "data": {
      "application/vnd.jupyter.widget-view+json": {
       "model_id": "",
       "version_major": 2,
       "version_minor": 0
      },
      "text/plain": [
       "VBox(children=(Label(value='0.001 MB of 0.001 MB uploaded\\r'), FloatProgress(value=1.0, max=1.0)))"
      ]
     },
     "metadata": {},
     "output_type": "display_data"
    },
    {
     "data": {
      "text/html": [
       "<style>\n",
       "    table.wandb td:nth-child(1) { padding: 0 10px; text-align: left ; width: auto;} td:nth-child(2) {text-align: left ; width: 100%}\n",
       "    .wandb-row { display: flex; flex-direction: row; flex-wrap: wrap; justify-content: flex-start; width: 100% }\n",
       "    .wandb-col { display: flex; flex-direction: column; flex-basis: 100%; flex: 1; padding: 10px; }\n",
       "    </style>\n",
       "<div class=\"wandb-row\"><div class=\"wandb-col\"><h3>Run history:</h3><br/><table class=\"wandb\"><tr><td>grad_cos_sim_Df4</td><td>█▇▅▅▄▅▂▂▁▃▁▂▄▄▃▂▄▄▅▃▃▄</td></tr><tr><td>grad_cos_sim_Dt3</td><td>██▆▆▄▄▅▄▄▄▄▅▂▃▂▁▂▂▂▁▁▁</td></tr><tr><td>orig_data_valid_loss</td><td>▁▃▂▁▁▃▂▁▁▃▁▁▃█▄▁▄▃█▁▁▁▂▂▁▁▁▁▁▁▁▁▁▁▁▁▁▁▁▁</td></tr><tr><td>step</td><td>▁▁▁▂▂▂▂▂▂▃▃▃▃▃▄▄▄▄▄▄▅▅▅▅▅▅▆▆▆▆▆▇▇▇▇▇▇███</td></tr><tr><td>train_loss</td><td>▃▂▂▂▁▁▁▁▁▁▁▁▁▁▁▁▁▁▁▁█▅▃▂▂▂▂▂▂▁▁▁▁▁▁▁▁▁▁▁</td></tr><tr><td>val/loss</td><td>▆▁▂▃▄▄▄▄▅▄▄▄▅▅▄▄▅▄▅▅▅▅▇█▇▇██▇▇▇▇▇▇▇▇▇▇▇▇</td></tr><tr><td>valid_Df4/acc</td><td>▁▂▂▁▄▁▃▂▃▂▄▃▃▃▃▃▃▃▃▃▂▂▄▇▆▆▇▇▇▇▇▇███▇▇▇▇▇</td></tr><tr><td>valid_Df4/loss</td><td>▁▁▂▃▃▄▄▄▅▄▅▅▆▆▆▆▇▆▇▇▇▇▇████████████▇▇▇▇▇</td></tr><tr><td>valid_DfQ2/acc</td><td>▁█▇▆▆▆▇▇▇▇▇▇▇▆▇▇▇▇▇▇▇▇▆▆▆▆▆▆▆▅▅▅▅▆▆▆▇▇▇▇</td></tr><tr><td>valid_DfQ2/loss</td><td>▄▁▂▃▄▄▄▄▄▄▄▅▅▅▄▅▅▅▅▅▅▅▇█▇▇█▇▇▇▇▇▇▆▆▆▆▆▆▆</td></tr><tr><td>valid_Dt3/acc</td><td>▆▁▄▃▄▅▃▅▄▂▅▃▄▄▅▄▆▃▆▅▇▇▇▇▇▇▇▇█▇▇▆█▆▅▅▅▆▅▅</td></tr><tr><td>valid_Dt3/loss</td><td>▁▁▂▃▃▄▄▄▄▄▅▅▆▆▆▅▆▆▆▆▆▆▇▇▇███████████████</td></tr><tr><td>valid_DtQ1/acc</td><td>▁▆▇▆▆▆▇▇▇▇▇▇▇▇▇▇███▇▇▇▆▇▇▇▇▇▇▇▇▇▇▆▆▇▆▇▇▆</td></tr><tr><td>valid_DtQ1/loss</td><td>█▁▂▂▃▃▃▃▄▃▄▃▃▄▃▃▃▂▂▃▄▅▅▅▄▅▆▇▆▆▆▆▆▆▇▇▇▇▇█</td></tr><tr><td>wnorm/blocks.0.attn.W_K</td><td>▁▃▄▅▅▅▅▅▅▅▅▅▅▅▅▅▅▅▅▅▅▆▇█████████████████</td></tr><tr><td>wnorm/blocks.0.attn.W_O</td><td>▁▂▄▅▆▆▆▆▆▆▆▆▆▆▆▆▆▆▆▆▆▆▇█████████████████</td></tr><tr><td>wnorm/blocks.0.attn.W_Q</td><td>▁▃▄▅▆▆▆▇▇▇▇▇▇▇▇▆▆▆▆▆▆▇▇▇▇███████████████</td></tr><tr><td>wnorm/blocks.0.attn.W_V</td><td>▁▂▄▅▆▆▆▆▆▆▆▆▆▆▆▆▆▆▆▆▆▆▇█████████████████</td></tr><tr><td>wnorm/blocks.0.attn.b_K</td><td>█▅▅▄▃▄▅▄▅▄▄▃▃▃▂▂▂▂▂▂▂▂▂▃▃▃▂▂▂▂▂▁▂▁▁▁▁▁▁▁</td></tr><tr><td>wnorm/blocks.0.attn.b_O</td><td>▄▁▂▃▄▄▅▅▅▆▆▇▆▇▆▆▇▇▆▆▇▅▅▅▆▆▇▇█▇▇▇▇███████</td></tr><tr><td>wnorm/blocks.0.attn.b_Q</td><td>▄█▇▆▅▄▃▃▃▂▃▃▄▄▃▃▃▂▂▂▁▁▁▂▃▃▃▃▃▃▃▄▄▄▄▄▄▄▄▄</td></tr><tr><td>wnorm/blocks.0.attn.b_V</td><td>▃▁▂▄▅▆▇▇████▇▇▆▆▇▇▇▆▅▃▅▆▆▆▇▇▇▇▇▇▇▇▇▇▇███</td></tr><tr><td>wnorm/blocks.0.mlp.W_in</td><td>▁▂▃▄▄▅▅▅▅▅▆▆▆▆▆▆▆▆▆▆▆▆▇▇▇▇██████████████</td></tr><tr><td>wnorm/blocks.0.mlp.W_out</td><td>▁▂▃▄▅▅▅▅▅▆▆▆▆▆▆▆▆▆▆▆▆▆▇▇▇▇▇█████████████</td></tr><tr><td>wnorm/blocks.0.mlp.b_in</td><td>█▆▅▆▆▆▆▅▅▅▅▄▄▃▃▃▂▂▂▁▁▁▂▂▂▂▂▂▂▂▂▂▂▂▂▂▂▂▂▂</td></tr><tr><td>wnorm/blocks.0.mlp.b_out</td><td>▁▁▄▅▆▆▆▆▅▆▆▆▅▆▆▆▆▅▅▄▄▅▇▇▇▇▇▇▇▇▇▇▇▇██████</td></tr><tr><td>wnorm/embed.W_E</td><td>▁▂▂▃▃▃▃▄▄▄▄▅▅▅▅▆▆▆▇▇▇▇▇█████████████████</td></tr><tr><td>wnorm/pos_embed.W_pos</td><td>▁▂▄▅▆▆▆▆▆▆▆▆▆▆▆▆▆▅▅▅▅▄▅▆▇▇▇▇████████████</td></tr><tr><td>wnorm/unembed.W_U</td><td>▁▄▅▆▆▆▆▆▆▆▆▆▆▆▇▇▇▇▇▇▇▇██████████████████</td></tr><tr><td>wnorm/unembed.b_U</td><td>▁▅▆▆▆▆▆▆▆▆▆▆▆▆▆▆▅▅▅▅▆▇██████████████████</td></tr></table><br/></div><div class=\"wandb-col\"><h3>Run summary:</h3><br/><table class=\"wandb\"><tr><td>grad_cos_sim_Df4</td><td>0.07379</td></tr><tr><td>grad_cos_sim_Dt3</td><td>-0.04765</td></tr><tr><td>orig_data_valid_loss</td><td>3e-05</td></tr><tr><td>step</td><td>999</td></tr><tr><td>train_loss</td><td>0.35743</td></tr><tr><td>val/loss</td><td>3.53906</td></tr><tr><td>valid_Df4/acc</td><td>0.13611</td></tr><tr><td>valid_Df4/loss</td><td>16.34839</td></tr><tr><td>valid_DfQ2/acc</td><td>0.62963</td></tr><tr><td>valid_DfQ2/loss</td><td>3.96902</td></tr><tr><td>valid_Dt3/acc</td><td>0.04444</td></tr><tr><td>valid_Dt3/loss</td><td>21.27226</td></tr><tr><td>valid_DtQ1/acc</td><td>0.68148</td></tr><tr><td>valid_DtQ1/loss</td><td>3.1091</td></tr><tr><td>wnorm/blocks.0.attn.W_K</td><td>21.69254</td></tr><tr><td>wnorm/blocks.0.attn.W_O</td><td>20.26845</td></tr><tr><td>wnorm/blocks.0.attn.W_Q</td><td>35.77615</td></tr><tr><td>wnorm/blocks.0.attn.W_V</td><td>21.29491</td></tr><tr><td>wnorm/blocks.0.attn.b_K</td><td>0.0107</td></tr><tr><td>wnorm/blocks.0.attn.b_O</td><td>1.16903</td></tr><tr><td>wnorm/blocks.0.attn.b_Q</td><td>1.07242</td></tr><tr><td>wnorm/blocks.0.attn.b_V</td><td>0.38705</td></tr><tr><td>wnorm/blocks.0.mlp.W_in</td><td>22.94988</td></tr><tr><td>wnorm/blocks.0.mlp.W_out</td><td>23.55331</td></tr><tr><td>wnorm/blocks.0.mlp.b_in</td><td>0.93617</td></tr><tr><td>wnorm/blocks.0.mlp.b_out</td><td>1.34285</td></tr><tr><td>wnorm/embed.W_E</td><td>8.92918</td></tr><tr><td>wnorm/pos_embed.W_pos</td><td>1.43556</td></tr><tr><td>wnorm/unembed.W_U</td><td>11.49624</td></tr><tr><td>wnorm/unembed.b_U</td><td>1.07292</td></tr></table><br/></div></div>"
      ],
      "text/plain": [
       "<IPython.core.display.HTML object>"
      ]
     },
     "metadata": {},
     "output_type": "display_data"
    },
    {
     "data": {
      "text/html": [
       " View run <strong style=\"color:#cdcd00\">seed=3</strong> at: <a href='https://wandb.ai/kilianovski/misha-iml/runs/jdiwqauk' target=\"_blank\">https://wandb.ai/kilianovski/misha-iml/runs/jdiwqauk</a><br/> View job at <a href='https://wandb.ai/kilianovski/misha-iml/jobs/QXJ0aWZhY3RDb2xsZWN0aW9uOjQxMzgxNzE1Mg==/version_details/v2' target=\"_blank\">https://wandb.ai/kilianovski/misha-iml/jobs/QXJ0aWZhY3RDb2xsZWN0aW9uOjQxMzgxNzE1Mg==/version_details/v2</a><br/>Synced 6 W&B file(s), 0 media file(s), 0 artifact file(s) and 0 other file(s)"
      ],
      "text/plain": [
       "<IPython.core.display.HTML object>"
      ]
     },
     "metadata": {},
     "output_type": "display_data"
    },
    {
     "data": {
      "text/html": [
       "Find logs at: <code>./wandb/run-20240816_130439-jdiwqauk/logs</code>"
      ],
      "text/plain": [
       "<IPython.core.display.HTML object>"
      ]
     },
     "metadata": {},
     "output_type": "display_data"
    },
    {
     "data": {
      "text/html": [
       "Successfully finished last run (ID:jdiwqauk). Initializing new run:<br/>"
      ],
      "text/plain": [
       "<IPython.core.display.HTML object>"
      ]
     },
     "metadata": {},
     "output_type": "display_data"
    },
    {
     "data": {
      "application/vnd.jupyter.widget-view+json": {
       "model_id": "efee9a48ef104319bc915025f6c39d56",
       "version_major": 2,
       "version_minor": 0
      },
      "text/plain": [
       "VBox(children=(Label(value='Waiting for wandb.init()...\\r'), FloatProgress(value=0.011132342134240187, max=1.0…"
      ]
     },
     "metadata": {},
     "output_type": "display_data"
    },
    {
     "data": {
      "text/html": [
       "wandb version 0.17.7 is available!  To upgrade, please run:\n",
       " $ pip install wandb --upgrade"
      ],
      "text/plain": [
       "<IPython.core.display.HTML object>"
      ]
     },
     "metadata": {},
     "output_type": "display_data"
    },
    {
     "data": {
      "text/html": [
       "Tracking run with wandb version 0.16.2"
      ],
      "text/plain": [
       "<IPython.core.display.HTML object>"
      ]
     },
     "metadata": {},
     "output_type": "display_data"
    },
    {
     "data": {
      "text/html": [
       "Run data is saved locally in <code>/Users/mykhailokilianovskyi/src/aisc_oocl_experiments/notebooks/wandb/run-20240816_131428-ekk97ewm</code>"
      ],
      "text/plain": [
       "<IPython.core.display.HTML object>"
      ]
     },
     "metadata": {},
     "output_type": "display_data"
    },
    {
     "data": {
      "text/html": [
       "Syncing run <strong><a href='https://wandb.ai/kilianovski/misha-iml/runs/ekk97ewm' target=\"_blank\">seed=4</a></strong> to <a href='https://wandb.ai/kilianovski/misha-iml' target=\"_blank\">Weights & Biases</a> (<a href='https://wandb.me/run' target=\"_blank\">docs</a>)<br/>"
      ],
      "text/plain": [
       "<IPython.core.display.HTML object>"
      ]
     },
     "metadata": {},
     "output_type": "display_data"
    },
    {
     "data": {
      "text/html": [
       " View project at <a href='https://wandb.ai/kilianovski/misha-iml' target=\"_blank\">https://wandb.ai/kilianovski/misha-iml</a>"
      ],
      "text/plain": [
       "<IPython.core.display.HTML object>"
      ]
     },
     "metadata": {},
     "output_type": "display_data"
    },
    {
     "data": {
      "text/html": [
       " View run at <a href='https://wandb.ai/kilianovski/misha-iml/runs/ekk97ewm' target=\"_blank\">https://wandb.ai/kilianovski/misha-iml/runs/ekk97ewm</a>"
      ],
      "text/plain": [
       "<IPython.core.display.HTML object>"
      ]
     },
     "metadata": {},
     "output_type": "display_data"
    },
    {
     "name": "stdout",
     "output_type": "stream",
     "text": [
      "seed=4\n",
      "int_by_set\n",
      "{'DtQ1': [48, 25, 45, 83, 32, 6, 53, 73, 58, 105, 85, 72, 86, 23, 15, 71, 76, 93, 101, 114, 100, 57, 59, 18, 67, 111, 104, 75, 1, 56], 'DfQ2': [20, 26, 91, 41, 78, 94, 115, 109, 113, 89, 17, 110, 40, 69, 116, 95, 63, 74, 4, 29, 42, 16, 44, 119, 62, 81, 9, 5, 12, 106], 'Dt3': [14, 10, 103, 55, 36, 54, 52, 90, 65, 88, 87, 0, 118, 108, 84, 99, 60, 79, 98, 31, 64, 49, 43, 77, 112, 47, 80, 107, 39, 21], 'Df4': [24, 34, 96, 82, 3, 27, 33, 117, 22, 35, 46, 68, 66, 28, 7, 97, 102, 37, 70, 51, 2, 8, 11, 19, 61, 50, 92, 13, 38, 30]}\n",
      "loaded from ./multiplication_model.pt\n",
      "+--------------------+------------+\n",
      "|      Modules       | Parameters |\n",
      "+--------------------+------------+\n",
      "|     embed.W_E      |   249856   |\n",
      "|  pos_embed.W_pos   |    5120    |\n",
      "| blocks.0.attn.W_Q  |  1048576   |\n",
      "| blocks.0.attn.W_O  |  1048576   |\n",
      "| blocks.0.attn.b_Q  |    1024    |\n",
      "| blocks.0.attn.b_O  |    1024    |\n",
      "| blocks.0.attn.W_K  |  1048576   |\n",
      "| blocks.0.attn.W_V  |  1048576   |\n",
      "| blocks.0.attn.b_K  |    1024    |\n",
      "| blocks.0.attn.b_V  |    1024    |\n",
      "| blocks.0.mlp.W_in  |  4194304   |\n",
      "| blocks.0.mlp.b_in  |    4096    |\n",
      "| blocks.0.mlp.W_out |  4194304   |\n",
      "| blocks.0.mlp.b_out |    1024    |\n",
      "|    unembed.W_U     |   249856   |\n",
      "|    unembed.b_U     |    244     |\n",
      "+--------------------+------------+\n",
      "Total Trainable Params: 13097204\n"
     ]
    },
    {
     "data": {
      "application/vnd.jupyter.widget-view+json": {
       "model_id": "c79aea5e7316411097f3ce4c26e6966c",
       "version_major": 2,
       "version_minor": 0
      },
      "text/plain": [
       "  0%|          | 0/500 [00:00<?, ?it/s]"
      ]
     },
     "metadata": {},
     "output_type": "display_data"
    },
    {
     "name": "stdout",
     "output_type": "stream",
     "text": [
      "saved to stage1__multiplication_model.pt\n"
     ]
    },
    {
     "data": {
      "application/vnd.jupyter.widget-view+json": {
       "model_id": "508cf191c33f4220a645d39849a8f1d7",
       "version_major": 2,
       "version_minor": 0
      },
      "text/plain": [
       "  0%|          | 0/500 [00:00<?, ?it/s]"
      ]
     },
     "metadata": {},
     "output_type": "display_data"
    },
    {
     "name": "stdout",
     "output_type": "stream",
     "text": [
      "saved to stage2__multiplication_model.pt\n",
      "Moving model to device:  cpu\n"
     ]
    },
    {
     "name": "stderr",
     "output_type": "stream",
     "text": [
      "/Users/mykhailokilianovskyi/src/aisc_oocl_experiments/notebooks/../data.py:271: UserWarning: To copy construct from a tensor, it is recommended to use sourceTensor.clone().detach() or sourceTensor.clone().detach().requires_grad_(True), rather than torch.tensor(sourceTensor).\n",
      "  result_tensor = torch.tensor(Z).view(N, 1)\n"
     ]
    },
    {
     "data": {
      "text/html": [
       "Finishing last run (ID:ekk97ewm) before initializing another..."
      ],
      "text/plain": [
       "<IPython.core.display.HTML object>"
      ]
     },
     "metadata": {},
     "output_type": "display_data"
    },
    {
     "data": {
      "application/vnd.jupyter.widget-view+json": {
       "model_id": "da4e7d702f7a443e84f62f90bc5e2022",
       "version_major": 2,
       "version_minor": 0
      },
      "text/plain": [
       "VBox(children=(Label(value='0.001 MB of 0.001 MB uploaded\\r'), FloatProgress(value=1.0, max=1.0)))"
      ]
     },
     "metadata": {},
     "output_type": "display_data"
    },
    {
     "data": {
      "text/html": [
       "<style>\n",
       "    table.wandb td:nth-child(1) { padding: 0 10px; text-align: left ; width: auto;} td:nth-child(2) {text-align: left ; width: 100%}\n",
       "    .wandb-row { display: flex; flex-direction: row; flex-wrap: wrap; justify-content: flex-start; width: 100% }\n",
       "    .wandb-col { display: flex; flex-direction: column; flex-basis: 100%; flex: 1; padding: 10px; }\n",
       "    </style>\n",
       "<div class=\"wandb-row\"><div class=\"wandb-col\"><h3>Run history:</h3><br/><table class=\"wandb\"><tr><td>grad_cos_sim_Df4</td><td>█▅▅▄▅▅▅▅▅▅▅▅▃▃▃▂▂▁▁▂▂▁</td></tr><tr><td>grad_cos_sim_Dt3</td><td>▇█▇▆▆▇▆▆▅▆▅▅▄▃▃▂▂▁▁▁▁▁</td></tr><tr><td>orig_data_valid_loss</td><td>▂▃█▂▁▁▁▁▁▁▁▁▁▁▁▁▁▁▁▁▂▃▂▁▁▁▁▂▂▁▁▁▂▁▁▁▁▁▁▁</td></tr><tr><td>step</td><td>▁▁▁▂▂▂▂▂▂▃▃▃▃▃▄▄▄▄▄▄▅▅▅▅▅▅▆▆▆▆▆▇▇▇▇▇▇███</td></tr><tr><td>train_loss</td><td>▃▂▂▁▁▁▁▁▁▁▁▁▁▁▁▁▁▁▁▁█▄▃▂▂▂▂▂▁▁▁▁▁▁▁▁▁▁▁▁</td></tr><tr><td>val/loss</td><td>▃▁▂▃▄▄▄▄▄▄▄▄▅▅▅▅▅▆▆▆▆▇██████▇▇▇▇▇▇▇▇▇▇▇▇</td></tr><tr><td>valid_Df4/acc</td><td>▁▂▃▃▄▃▂▃▅▅▅▄▅▄▄▂▄▄▅▅▅▄▅▆▆▅▆▆▅▅▅▆▆▆▆▆▇███</td></tr><tr><td>valid_Df4/loss</td><td>▁▁▂▃▃▄▄▄▄▄▅▅▅▅▇▆▆▇▇▇▆▇██████████████████</td></tr><tr><td>valid_DfQ2/acc</td><td>▁▆▆▇▇▇▇▇▇▇███▇███████▇▇▇▇▇▇██▇██████████</td></tr><tr><td>valid_DfQ2/loss</td><td>▄▁▂▃▃▃▄▄▄▄▄▄▅▅▆▄▆▆▆▆▅▆████▇▇▇▇█▇▇▇▇▇▇▇▇▇</td></tr><tr><td>valid_Dt3/acc</td><td>▂▁▁▁▁▁▄▂▁▂▂▃▂▂▃▄▂▂▂▂▂▃▂▄▄▄▄▅▅▄▄▆▇▇▇▇▇███</td></tr><tr><td>valid_Dt3/loss</td><td>▁▂▃▄▄▄▅▅▅▅▆▆▆▆█▇████▇▇███▇▇▇▇▇▇▇▇▇▇▇▇▇▇▇</td></tr><tr><td>valid_DtQ1/acc</td><td>▁█▇▇▇▇▇▇▇▇▇▇▇████████▇▆▇▇▇▇▇▇▇▇▇▇▇▇▇▇▇▇▇</td></tr><tr><td>valid_DtQ1/loss</td><td>▃▁▂▃▄▄▄▄▄▄▄▅▅▅▅▅▅▅▆▆▅▇█▇▇▇▇█▇▆▇▇▇▇▇▇▇▇▇▇</td></tr><tr><td>wnorm/blocks.0.attn.W_K</td><td>▁▃▅▅▅▅▅▅▅▅▅▅▅▅▅▅▅▄▄▄▅▆██████████████████</td></tr><tr><td>wnorm/blocks.0.attn.W_O</td><td>▁▂▄▅▆▆▆▆▆▇▇▇▇▇▇▇▇▇▇▇▆▇▇█████████████████</td></tr><tr><td>wnorm/blocks.0.attn.W_Q</td><td>▁▄▅▆▆▇▇▇▇▇▆▆▆▆▆▆▆▆▆▆▆▆▇▇▇▇▇█████████████</td></tr><tr><td>wnorm/blocks.0.attn.W_V</td><td>▁▃▄▅▆▆▆▆▆▇▇▇▇▇▇▇▇▇▇▇▆▇▇█████████████████</td></tr><tr><td>wnorm/blocks.0.attn.b_K</td><td>▂▅▅▄▂▂▁▁▃▃▂▂▂▂▂▂▂▂▂▁▁▁▃█▇▆▃▃▄▄▄▄▄▄▄▄▄▄▄▄</td></tr><tr><td>wnorm/blocks.0.attn.b_O</td><td>▄▁▁▃▄▄▅▆▇▇▇▇█▇█████▇█▇▆▆▆▆▆▇▇▆▆▇▇▇▇▇▇▇▇▇</td></tr><tr><td>wnorm/blocks.0.attn.b_Q</td><td>▇██▇▆▅▄▃▃▂▂▂▂▁▁▁▁▁▁▁▁▁▁▁▁▁▁▁▁▁▁▁▁▁▁▁▁▁▁▁</td></tr><tr><td>wnorm/blocks.0.attn.b_V</td><td>▁▁▃▅▆▆▇▇▇▇██████████▇▆▆▆▇▆▆▆▆▆▆▆▆▇▆▆▆▆▆▆</td></tr><tr><td>wnorm/blocks.0.mlp.W_in</td><td>▁▂▃▄▅▅▅▅▆▆▆▆▆▆▆▆▆▆▆▆▆▆▇▇▇▇▇█████████████</td></tr><tr><td>wnorm/blocks.0.mlp.W_out</td><td>▁▂▃▄▅▅▅▅▆▆▆▆▆▆▆▆▆▆▆▆▆▇▇▇▇▇▇█████████████</td></tr><tr><td>wnorm/blocks.0.mlp.b_in</td><td>█▄▄▅▅▅▆▅▆▆▆▆▇▇█▇██▇▇▇▆▅▆▅▅▅▅▄▄▃▄▃▃▃▂▂▁▁▁</td></tr><tr><td>wnorm/blocks.0.mlp.b_out</td><td>▁▃▇▇██████▇▇███▇█▇▇▇▇▇███████████████▇▇▇</td></tr><tr><td>wnorm/embed.W_E</td><td>▁▂▂▃▃▃▃▄▄▄▄▄▅▅▅▆▆▇▇▇▇▇██████████████████</td></tr><tr><td>wnorm/pos_embed.W_pos</td><td>▁▃▄▅▆▆▇▆▇▇▆▆▆▆▆▆▆▆▆▆▅▅▆▇▇▇▇▇▇▇▇█████████</td></tr><tr><td>wnorm/unembed.W_U</td><td>▁▄▅▆▆▆▆▆▆▆▆▆▆▆▆▆▆▇▇▇▇▇██████████████████</td></tr><tr><td>wnorm/unembed.b_U</td><td>▁▅▆▆▆▆▆▆▆▆▆▆▆▆▅▅▅▅▅▅▅▇██████████████████</td></tr></table><br/></div><div class=\"wandb-col\"><h3>Run summary:</h3><br/><table class=\"wandb\"><tr><td>grad_cos_sim_Df4</td><td>-0.15182</td></tr><tr><td>grad_cos_sim_Dt3</td><td>-0.02103</td></tr><tr><td>orig_data_valid_loss</td><td>0.0</td></tr><tr><td>step</td><td>999</td></tr><tr><td>train_loss</td><td>0.34899</td></tr><tr><td>val/loss</td><td>5.55762</td></tr><tr><td>valid_Df4/acc</td><td>0.13889</td></tr><tr><td>valid_Df4/loss</td><td>20.13891</td></tr><tr><td>valid_DfQ2/acc</td><td>0.68889</td></tr><tr><td>valid_DfQ2/loss</td><td>4.47295</td></tr><tr><td>valid_Dt3/acc</td><td>0.12222</td></tr><tr><td>valid_Dt3/loss</td><td>17.75051</td></tr><tr><td>valid_DtQ1/acc</td><td>0.62222</td></tr><tr><td>valid_DtQ1/loss</td><td>6.64229</td></tr><tr><td>wnorm/blocks.0.attn.W_K</td><td>21.46056</td></tr><tr><td>wnorm/blocks.0.attn.W_O</td><td>20.11735</td></tr><tr><td>wnorm/blocks.0.attn.W_Q</td><td>33.69976</td></tr><tr><td>wnorm/blocks.0.attn.W_V</td><td>21.01412</td></tr><tr><td>wnorm/blocks.0.attn.b_K</td><td>0.01216</td></tr><tr><td>wnorm/blocks.0.attn.b_O</td><td>1.1638</td></tr><tr><td>wnorm/blocks.0.attn.b_Q</td><td>0.81656</td></tr><tr><td>wnorm/blocks.0.attn.b_V</td><td>0.41027</td></tr><tr><td>wnorm/blocks.0.mlp.W_in</td><td>22.85086</td></tr><tr><td>wnorm/blocks.0.mlp.W_out</td><td>23.60437</td></tr><tr><td>wnorm/blocks.0.mlp.b_in</td><td>0.94816</td></tr><tr><td>wnorm/blocks.0.mlp.b_out</td><td>1.35388</td></tr><tr><td>wnorm/embed.W_E</td><td>8.76306</td></tr><tr><td>wnorm/pos_embed.W_pos</td><td>1.43842</td></tr><tr><td>wnorm/unembed.W_U</td><td>11.30854</td></tr><tr><td>wnorm/unembed.b_U</td><td>1.04748</td></tr></table><br/></div></div>"
      ],
      "text/plain": [
       "<IPython.core.display.HTML object>"
      ]
     },
     "metadata": {},
     "output_type": "display_data"
    },
    {
     "data": {
      "text/html": [
       " View run <strong style=\"color:#cdcd00\">seed=4</strong> at: <a href='https://wandb.ai/kilianovski/misha-iml/runs/ekk97ewm' target=\"_blank\">https://wandb.ai/kilianovski/misha-iml/runs/ekk97ewm</a><br/> View job at <a href='https://wandb.ai/kilianovski/misha-iml/jobs/QXJ0aWZhY3RDb2xsZWN0aW9uOjQxMzgxNzE1Mg==/version_details/v2' target=\"_blank\">https://wandb.ai/kilianovski/misha-iml/jobs/QXJ0aWZhY3RDb2xsZWN0aW9uOjQxMzgxNzE1Mg==/version_details/v2</a><br/>Synced 6 W&B file(s), 0 media file(s), 0 artifact file(s) and 0 other file(s)"
      ],
      "text/plain": [
       "<IPython.core.display.HTML object>"
      ]
     },
     "metadata": {},
     "output_type": "display_data"
    },
    {
     "data": {
      "text/html": [
       "Find logs at: <code>./wandb/run-20240816_131428-ekk97ewm/logs</code>"
      ],
      "text/plain": [
       "<IPython.core.display.HTML object>"
      ]
     },
     "metadata": {},
     "output_type": "display_data"
    },
    {
     "data": {
      "text/html": [
       "Successfully finished last run (ID:ekk97ewm). Initializing new run:<br/>"
      ],
      "text/plain": [
       "<IPython.core.display.HTML object>"
      ]
     },
     "metadata": {},
     "output_type": "display_data"
    },
    {
     "data": {
      "application/vnd.jupyter.widget-view+json": {
       "model_id": "cc57bb76606d4e9c851b6063ebe11ea3",
       "version_major": 2,
       "version_minor": 0
      },
      "text/plain": [
       "VBox(children=(Label(value='Waiting for wandb.init()...\\r'), FloatProgress(value=0.011147985655245267, max=1.0…"
      ]
     },
     "metadata": {},
     "output_type": "display_data"
    },
    {
     "data": {
      "text/html": [
       "wandb version 0.17.7 is available!  To upgrade, please run:\n",
       " $ pip install wandb --upgrade"
      ],
      "text/plain": [
       "<IPython.core.display.HTML object>"
      ]
     },
     "metadata": {},
     "output_type": "display_data"
    },
    {
     "data": {
      "text/html": [
       "Tracking run with wandb version 0.16.2"
      ],
      "text/plain": [
       "<IPython.core.display.HTML object>"
      ]
     },
     "metadata": {},
     "output_type": "display_data"
    },
    {
     "data": {
      "text/html": [
       "Run data is saved locally in <code>/Users/mykhailokilianovskyi/src/aisc_oocl_experiments/notebooks/wandb/run-20240816_132503-172ep8yr</code>"
      ],
      "text/plain": [
       "<IPython.core.display.HTML object>"
      ]
     },
     "metadata": {},
     "output_type": "display_data"
    },
    {
     "data": {
      "text/html": [
       "Syncing run <strong><a href='https://wandb.ai/kilianovski/misha-iml/runs/172ep8yr' target=\"_blank\">seed=5</a></strong> to <a href='https://wandb.ai/kilianovski/misha-iml' target=\"_blank\">Weights & Biases</a> (<a href='https://wandb.me/run' target=\"_blank\">docs</a>)<br/>"
      ],
      "text/plain": [
       "<IPython.core.display.HTML object>"
      ]
     },
     "metadata": {},
     "output_type": "display_data"
    },
    {
     "data": {
      "text/html": [
       " View project at <a href='https://wandb.ai/kilianovski/misha-iml' target=\"_blank\">https://wandb.ai/kilianovski/misha-iml</a>"
      ],
      "text/plain": [
       "<IPython.core.display.HTML object>"
      ]
     },
     "metadata": {},
     "output_type": "display_data"
    },
    {
     "data": {
      "text/html": [
       " View run at <a href='https://wandb.ai/kilianovski/misha-iml/runs/172ep8yr' target=\"_blank\">https://wandb.ai/kilianovski/misha-iml/runs/172ep8yr</a>"
      ],
      "text/plain": [
       "<IPython.core.display.HTML object>"
      ]
     },
     "metadata": {},
     "output_type": "display_data"
    },
    {
     "name": "stdout",
     "output_type": "stream",
     "text": [
      "seed=5\n",
      "int_by_set\n",
      "{'DtQ1': [61, 58, 106, 29, 62, 63, 24, 28, 46, 34, 100, 75, 15, 8, 71, 118, 7, 89, 103, 42, 5, 33, 115, 51, 18, 12, 36, 95, 93, 84], 'DfQ2': [92, 86, 43, 116, 109, 50, 65, 4, 108, 54, 77, 112, 72, 97, 53, 57, 90, 39, 30, 64, 11, 85, 81, 55, 41, 66, 22, 19, 44, 82], 'Dt3': [10, 68, 110, 2, 38, 87, 70, 114, 76, 96, 25, 40, 37, 74, 21, 91, 26, 78, 0, 80, 16, 56, 104, 119, 17, 9, 102, 49, 23, 35], 'Df4': [52, 27, 1, 98, 73, 13, 69, 48, 105, 60, 47, 14, 20, 6, 111, 31, 99, 59, 113, 3, 67, 83, 117, 107, 88, 101, 45, 94, 32, 79]}\n",
      "loaded from ./multiplication_model.pt\n",
      "+--------------------+------------+\n",
      "|      Modules       | Parameters |\n",
      "+--------------------+------------+\n",
      "|     embed.W_E      |   249856   |\n",
      "|  pos_embed.W_pos   |    5120    |\n",
      "| blocks.0.attn.W_Q  |  1048576   |\n",
      "| blocks.0.attn.W_O  |  1048576   |\n",
      "| blocks.0.attn.b_Q  |    1024    |\n",
      "| blocks.0.attn.b_O  |    1024    |\n",
      "| blocks.0.attn.W_K  |  1048576   |\n",
      "| blocks.0.attn.W_V  |  1048576   |\n",
      "| blocks.0.attn.b_K  |    1024    |\n",
      "| blocks.0.attn.b_V  |    1024    |\n",
      "| blocks.0.mlp.W_in  |  4194304   |\n",
      "| blocks.0.mlp.b_in  |    4096    |\n",
      "| blocks.0.mlp.W_out |  4194304   |\n",
      "| blocks.0.mlp.b_out |    1024    |\n",
      "|    unembed.W_U     |   249856   |\n",
      "|    unembed.b_U     |    244     |\n",
      "+--------------------+------------+\n",
      "Total Trainable Params: 13097204\n"
     ]
    },
    {
     "data": {
      "application/vnd.jupyter.widget-view+json": {
       "model_id": "c36f08173fd34fec8fe18a0e244c3175",
       "version_major": 2,
       "version_minor": 0
      },
      "text/plain": [
       "  0%|          | 0/500 [00:00<?, ?it/s]"
      ]
     },
     "metadata": {},
     "output_type": "display_data"
    },
    {
     "name": "stdout",
     "output_type": "stream",
     "text": [
      "saved to stage1__multiplication_model.pt\n"
     ]
    },
    {
     "data": {
      "application/vnd.jupyter.widget-view+json": {
       "model_id": "05498c94fb8e4a1bb9afdc8bb5309954",
       "version_major": 2,
       "version_minor": 0
      },
      "text/plain": [
       "  0%|          | 0/500 [00:00<?, ?it/s]"
      ]
     },
     "metadata": {},
     "output_type": "display_data"
    },
    {
     "name": "stdout",
     "output_type": "stream",
     "text": [
      "saved to stage2__multiplication_model.pt\n",
      "Moving model to device:  cpu\n"
     ]
    },
    {
     "name": "stderr",
     "output_type": "stream",
     "text": [
      "/Users/mykhailokilianovskyi/src/aisc_oocl_experiments/notebooks/../data.py:271: UserWarning: To copy construct from a tensor, it is recommended to use sourceTensor.clone().detach() or sourceTensor.clone().detach().requires_grad_(True), rather than torch.tensor(sourceTensor).\n",
      "  # print(f\"Number of questions: {question_tensor.size(0)}\")\n"
     ]
    },
    {
     "data": {
      "text/html": [
       "Finishing last run (ID:172ep8yr) before initializing another..."
      ],
      "text/plain": [
       "<IPython.core.display.HTML object>"
      ]
     },
     "metadata": {},
     "output_type": "display_data"
    },
    {
     "data": {
      "application/vnd.jupyter.widget-view+json": {
       "model_id": "30c67564264d4b2e909447abc2ceba4b",
       "version_major": 2,
       "version_minor": 0
      },
      "text/plain": [
       "VBox(children=(Label(value='0.001 MB of 0.001 MB uploaded\\r'), FloatProgress(value=1.0, max=1.0)))"
      ]
     },
     "metadata": {},
     "output_type": "display_data"
    },
    {
     "data": {
      "text/html": [
       "<style>\n",
       "    table.wandb td:nth-child(1) { padding: 0 10px; text-align: left ; width: auto;} td:nth-child(2) {text-align: left ; width: 100%}\n",
       "    .wandb-row { display: flex; flex-direction: row; flex-wrap: wrap; justify-content: flex-start; width: 100% }\n",
       "    .wandb-col { display: flex; flex-direction: column; flex-basis: 100%; flex: 1; padding: 10px; }\n",
       "    </style>\n",
       "<div class=\"wandb-row\"><div class=\"wandb-col\"><h3>Run history:</h3><br/><table class=\"wandb\"><tr><td>grad_cos_sim_Df4</td><td>█▅▄▄▄▄▅▄▄▅▅▄▂▂▃▂▂▂▂▁▁▁</td></tr><tr><td>grad_cos_sim_Dt3</td><td>█▇▄▄▄▄▃▄▃▃▃▄▂▃▃▂▃▃▂▁▃▁</td></tr><tr><td>orig_data_valid_loss</td><td>▃█▄▄▁▃▁▁▁▁▁▁▁▁▁▁▁▁▁▁▁▂█▁▁▁▁▁▁▁▁▁▁▁▁▁▁▁▁▁</td></tr><tr><td>step</td><td>▁▁▁▂▂▂▂▂▂▃▃▃▃▃▄▄▄▄▄▄▅▅▅▅▅▅▆▆▆▆▆▇▇▇▇▇▇███</td></tr><tr><td>train_loss</td><td>▃▂▂▂▁▁▁▁▁▁▁▁▁▁▁▁▁▁▁▁█▄▃▂▂▂▂▂▂▁▁▁▁▁▁▁▁▁▁▁</td></tr><tr><td>val/loss</td><td>▂▁▂▃▃▃▃▃▄▄▄▄▄▄▄▄▄▄▄▄▅▆▇████▇▇▇▇▆▆▆▆▆▆▆▆▆</td></tr><tr><td>valid_Df4/acc</td><td>▃▁▁▂▄▄▅▃▄▄▅▄▅▅▅▅▅▅▅▅▅▅▆▆▆▇▆▇▇▇▇▇▇▇▇▇▇███</td></tr><tr><td>valid_Df4/loss</td><td>▁▁▂▂▂▃▃▃▃▃▄▄▄▄▄▄▄▄▄▄▅▆▇████▇▇█▇▇▇▇▇▇████</td></tr><tr><td>valid_DfQ2/acc</td><td>▁▇▇▇▆▇▆▇▇▇▇▇▇▇██▇▇██▇▆▅▅▅▅▆▆▇▆▇▇▇▇▇▇▆▆▆▆</td></tr><tr><td>valid_DfQ2/loss</td><td>▂▁▂▃▄▄▄▄▅▄▅▅▅▅▅▅▅▅▅▅▅▅▇████▇▇▆▆▆▆▆▆▆▇▇▇▇</td></tr><tr><td>valid_Dt3/acc</td><td>▂▃▄▃▃▃▃▄▃▄▂▂▁▂▃▃▂▂▂▂▂▃▆▆▇▆▅▆▇█▇▆▆▇▇▇▇▆▆▆</td></tr><tr><td>valid_Dt3/loss</td><td>▁▁▂▃▃▃▃▄▄▄▅▅▅▅▅▅▆▆▆▆▆▆▇█████▇▇██▇▇█▇▇▇██</td></tr><tr><td>valid_DtQ1/acc</td><td>▁▆▇▇▇▇▇▆▆▇▇▇▇▇▇█▇████▇▆▆▆▆▆▆▇▆▇▆▆▆▆▇▇▇▇▇</td></tr><tr><td>valid_DtQ1/loss</td><td>▃▁▁▂▂▃▃▃▃▃▄▄▄▄▄▃▄▄▃▃▅▆▇████▇▇▇▇▆▆▆▆▆▆▆▆▆</td></tr><tr><td>wnorm/blocks.0.attn.W_K</td><td>▁▃▄▅▅▅▅▅▅▅▅▅▄▅▅▅▅▄▄▄▅▆▇█████████████████</td></tr><tr><td>wnorm/blocks.0.attn.W_O</td><td>▁▂▄▅▆▆▆▆▆▆▆▇▇▇▆▆▆▆▆▆▆▆▇█████████████████</td></tr><tr><td>wnorm/blocks.0.attn.W_Q</td><td>▁▄▆▇▇▇▇▇▇███▇▇▇▇▇▇▇▇▇▇▇▇▇▇▇▇▇███████████</td></tr><tr><td>wnorm/blocks.0.attn.W_V</td><td>▁▂▄▅▆▆▆▆▆▆▆▆▆▆▆▆▆▆▆▆▆▆▇█████████████████</td></tr><tr><td>wnorm/blocks.0.attn.b_K</td><td>▃▁▄▅▆█▇▇▇▇▇▆▆▆▆▆▅▆▆▆▆▆▆▆▅▄▄▄▄▄▄▄▄▄▄▄▄▃▃▃</td></tr><tr><td>wnorm/blocks.0.attn.b_O</td><td>▃▁▂▃▃▄▅▅▅▆▆▆▇▇▇█▇▇▇▇█▇▇▆▇▇▇▇▇▇▇█████▇███</td></tr><tr><td>wnorm/blocks.0.attn.b_Q</td><td>▁▂▃▄▄▄▄▄▄▄▄▄▄▄▄▄▄▃▃▃▃▄▅▆▆▆▆▆▇▇▇▇▇▇▇█████</td></tr><tr><td>wnorm/blocks.0.attn.b_V</td><td>▁▁▃▅▆▆▇▇▇▇█▇██▇██▇▇▇▆▅▅▅▆▅▅▅▅▅▆▆▆▆▆▆▆▆▆▆</td></tr><tr><td>wnorm/blocks.0.mlp.W_in</td><td>▁▂▃▄▅▅▅▅▆▆▆▆▆▆▆▆▆▆▆▆▆▆▇▇▇▇██████████████</td></tr><tr><td>wnorm/blocks.0.mlp.W_out</td><td>▁▂▃▄▅▅▅▆▆▆▆▆▆▆▆▆▆▆▆▆▆▇▇▇████████████████</td></tr><tr><td>wnorm/blocks.0.mlp.b_in</td><td>█▆▅▆▅▅▄▄▄▄▄▃▄▄▄▄▃▃▃▃▃▂▂▁▂▂▂▂▁▁▂▂▂▁▁▁▁▁▁▁</td></tr><tr><td>wnorm/blocks.0.mlp.b_out</td><td>▁▂▅▇▇▇▇███████▇▇▇▇▇▇▇▇▇▇▇▇▇▇▇▇▇▇▇▇▇▇▇▆▇▇</td></tr><tr><td>wnorm/embed.W_E</td><td>▁▂▂▃▃▃▃▄▄▄▄▄▅▅▅▆▆▆▇▇▇▇▇█████████████████</td></tr><tr><td>wnorm/pos_embed.W_pos</td><td>▁▃▄▅▆▆▆▆▆▆▆▆▆▆▆▆▆▆▆▆▆▆▆▇▇▇▇▇▇▇▇▇▇▇▇█████</td></tr><tr><td>wnorm/unembed.W_U</td><td>▁▄▆▆▆▆▆▆▆▆▆▆▇▇▇▇▇▇▇▇▇▇██████████████████</td></tr><tr><td>wnorm/unembed.b_U</td><td>▁▅▆▆▆▆▆▆▆▆▆▆▆▆▆▆▅▅▅▅▅▇██████████████████</td></tr></table><br/></div><div class=\"wandb-col\"><h3>Run summary:</h3><br/><table class=\"wandb\"><tr><td>grad_cos_sim_Df4</td><td>-0.1411</td></tr><tr><td>grad_cos_sim_Dt3</td><td>0.01393</td></tr><tr><td>orig_data_valid_loss</td><td>1e-05</td></tr><tr><td>step</td><td>999</td></tr><tr><td>train_loss</td><td>0.34523</td></tr><tr><td>val/loss</td><td>6.16933</td></tr><tr><td>valid_Df4/acc</td><td>0.13056</td></tr><tr><td>valid_Df4/loss</td><td>22.53178</td></tr><tr><td>valid_DfQ2/acc</td><td>0.58889</td></tr><tr><td>valid_DfQ2/loss</td><td>6.6728</td></tr><tr><td>valid_Dt3/acc</td><td>0.08611</td></tr><tr><td>valid_Dt3/loss</td><td>20.50106</td></tr><tr><td>valid_DtQ1/acc</td><td>0.64444</td></tr><tr><td>valid_DtQ1/loss</td><td>5.66586</td></tr><tr><td>wnorm/blocks.0.attn.W_K</td><td>21.52988</td></tr><tr><td>wnorm/blocks.0.attn.W_O</td><td>20.32374</td></tr><tr><td>wnorm/blocks.0.attn.W_Q</td><td>33.46293</td></tr><tr><td>wnorm/blocks.0.attn.W_V</td><td>21.43172</td></tr><tr><td>wnorm/blocks.0.attn.b_K</td><td>0.01181</td></tr><tr><td>wnorm/blocks.0.attn.b_O</td><td>1.19712</td></tr><tr><td>wnorm/blocks.0.attn.b_Q</td><td>1.53089</td></tr><tr><td>wnorm/blocks.0.attn.b_V</td><td>0.40879</td></tr><tr><td>wnorm/blocks.0.mlp.W_in</td><td>22.82276</td></tr><tr><td>wnorm/blocks.0.mlp.W_out</td><td>23.36129</td></tr><tr><td>wnorm/blocks.0.mlp.b_in</td><td>0.93974</td></tr><tr><td>wnorm/blocks.0.mlp.b_out</td><td>1.37062</td></tr><tr><td>wnorm/embed.W_E</td><td>8.82539</td></tr><tr><td>wnorm/pos_embed.W_pos</td><td>1.4581</td></tr><tr><td>wnorm/unembed.W_U</td><td>11.45883</td></tr><tr><td>wnorm/unembed.b_U</td><td>1.06682</td></tr></table><br/></div></div>"
      ],
      "text/plain": [
       "<IPython.core.display.HTML object>"
      ]
     },
     "metadata": {},
     "output_type": "display_data"
    },
    {
     "data": {
      "text/html": [
       " View run <strong style=\"color:#cdcd00\">seed=5</strong> at: <a href='https://wandb.ai/kilianovski/misha-iml/runs/172ep8yr' target=\"_blank\">https://wandb.ai/kilianovski/misha-iml/runs/172ep8yr</a><br/> View job at <a href='https://wandb.ai/kilianovski/misha-iml/jobs/QXJ0aWZhY3RDb2xsZWN0aW9uOjQxMzgxNzE1Mg==/version_details/v2' target=\"_blank\">https://wandb.ai/kilianovski/misha-iml/jobs/QXJ0aWZhY3RDb2xsZWN0aW9uOjQxMzgxNzE1Mg==/version_details/v2</a><br/>Synced 6 W&B file(s), 0 media file(s), 0 artifact file(s) and 0 other file(s)"
      ],
      "text/plain": [
       "<IPython.core.display.HTML object>"
      ]
     },
     "metadata": {},
     "output_type": "display_data"
    },
    {
     "data": {
      "text/html": [
       "Find logs at: <code>./wandb/run-20240816_132503-172ep8yr/logs</code>"
      ],
      "text/plain": [
       "<IPython.core.display.HTML object>"
      ]
     },
     "metadata": {},
     "output_type": "display_data"
    },
    {
     "data": {
      "text/html": [
       "Successfully finished last run (ID:172ep8yr). Initializing new run:<br/>"
      ],
      "text/plain": [
       "<IPython.core.display.HTML object>"
      ]
     },
     "metadata": {},
     "output_type": "display_data"
    },
    {
     "data": {
      "application/vnd.jupyter.widget-view+json": {
       "model_id": "a2cc9080b5054cebb37f6ed1facf0653",
       "version_major": 2,
       "version_minor": 0
      },
      "text/plain": [
       "VBox(children=(Label(value='Waiting for wandb.init()...\\r'), FloatProgress(value=0.011167426854889426, max=1.0…"
      ]
     },
     "metadata": {},
     "output_type": "display_data"
    },
    {
     "data": {
      "text/html": [
       "wandb version 0.17.7 is available!  To upgrade, please run:\n",
       " $ pip install wandb --upgrade"
      ],
      "text/plain": [
       "<IPython.core.display.HTML object>"
      ]
     },
     "metadata": {},
     "output_type": "display_data"
    },
    {
     "data": {
      "text/html": [
       "Tracking run with wandb version 0.16.2"
      ],
      "text/plain": [
       "<IPython.core.display.HTML object>"
      ]
     },
     "metadata": {},
     "output_type": "display_data"
    },
    {
     "data": {
      "text/html": [
       "Run data is saved locally in <code>/Users/mykhailokilianovskyi/src/aisc_oocl_experiments/notebooks/wandb/run-20240816_133522-rpo0j5lq</code>"
      ],
      "text/plain": [
       "<IPython.core.display.HTML object>"
      ]
     },
     "metadata": {},
     "output_type": "display_data"
    },
    {
     "data": {
      "text/html": [
       "Syncing run <strong><a href='https://wandb.ai/kilianovski/misha-iml/runs/rpo0j5lq' target=\"_blank\">seed=6</a></strong> to <a href='https://wandb.ai/kilianovski/misha-iml' target=\"_blank\">Weights & Biases</a> (<a href='https://wandb.me/run' target=\"_blank\">docs</a>)<br/>"
      ],
      "text/plain": [
       "<IPython.core.display.HTML object>"
      ]
     },
     "metadata": {},
     "output_type": "display_data"
    },
    {
     "data": {
      "text/html": [
       " View project at <a href='https://wandb.ai/kilianovski/misha-iml' target=\"_blank\">https://wandb.ai/kilianovski/misha-iml</a>"
      ],
      "text/plain": [
       "<IPython.core.display.HTML object>"
      ]
     },
     "metadata": {},
     "output_type": "display_data"
    },
    {
     "data": {
      "text/html": [
       " View run at <a href='https://wandb.ai/kilianovski/misha-iml/runs/rpo0j5lq' target=\"_blank\">https://wandb.ai/kilianovski/misha-iml/runs/rpo0j5lq</a>"
      ],
      "text/plain": [
       "<IPython.core.display.HTML object>"
      ]
     },
     "metadata": {},
     "output_type": "display_data"
    },
    {
     "name": "stdout",
     "output_type": "stream",
     "text": [
      "seed=6\n",
      "int_by_set\n",
      "{'DtQ1': [36, 28, 44, 82, 41, 26, 57, 27, 90, 61, 50, 67, 6, 20, 49, 110, 119, 80, 63, 66, 29, 39, 103, 58, 35, 15, 100, 112, 9, 107], 'DfQ2': [48, 13, 89, 95, 1, 16, 104, 86, 7, 30, 83, 43, 38, 23, 17, 21, 74, 116, 51, 59, 106, 118, 117, 53, 111, 45, 14, 88, 8, 79], 'Dt3': [108, 22, 19, 55, 31, 71, 3, 64, 65, 91, 99, 81, 76, 5, 77, 37, 102, 92, 56, 32, 96, 46, 85, 42, 54, 11, 78, 109, 113, 70], 'Df4': [72, 24, 12, 87, 69, 68, 52, 93, 25, 115, 34, 2, 98, 40, 47, 94, 114, 60, 75, 84, 18, 0, 4, 33, 97, 62, 10, 105, 73, 101]}\n",
      "loaded from ./multiplication_model.pt\n",
      "+--------------------+------------+\n",
      "|      Modules       | Parameters |\n",
      "+--------------------+------------+\n",
      "|     embed.W_E      |   249856   |\n",
      "|  pos_embed.W_pos   |    5120    |\n",
      "| blocks.0.attn.W_Q  |  1048576   |\n",
      "| blocks.0.attn.W_O  |  1048576   |\n",
      "| blocks.0.attn.b_Q  |    1024    |\n",
      "| blocks.0.attn.b_O  |    1024    |\n",
      "| blocks.0.attn.W_K  |  1048576   |\n",
      "| blocks.0.attn.W_V  |  1048576   |\n",
      "| blocks.0.attn.b_K  |    1024    |\n",
      "| blocks.0.attn.b_V  |    1024    |\n",
      "| blocks.0.mlp.W_in  |  4194304   |\n",
      "| blocks.0.mlp.b_in  |    4096    |\n",
      "| blocks.0.mlp.W_out |  4194304   |\n",
      "| blocks.0.mlp.b_out |    1024    |\n",
      "|    unembed.W_U     |   249856   |\n",
      "|    unembed.b_U     |    244     |\n",
      "+--------------------+------------+\n",
      "Total Trainable Params: 13097204\n"
     ]
    },
    {
     "data": {
      "application/vnd.jupyter.widget-view+json": {
       "model_id": "b471c5fbfc3b4055b48f3b6aa8df37a6",
       "version_major": 2,
       "version_minor": 0
      },
      "text/plain": [
       "  0%|          | 0/500 [00:00<?, ?it/s]"
      ]
     },
     "metadata": {},
     "output_type": "display_data"
    },
    {
     "name": "stdout",
     "output_type": "stream",
     "text": [
      "saved to stage1__multiplication_model.pt\n"
     ]
    },
    {
     "data": {
      "application/vnd.jupyter.widget-view+json": {
       "model_id": "8f9f199693c045709708fc74f6ea00c0",
       "version_major": 2,
       "version_minor": 0
      },
      "text/plain": [
       "  0%|          | 0/500 [00:00<?, ?it/s]"
      ]
     },
     "metadata": {},
     "output_type": "display_data"
    },
    {
     "name": "stdout",
     "output_type": "stream",
     "text": [
      "saved to stage2__multiplication_model.pt\n",
      "Moving model to device:  cpu\n"
     ]
    },
    {
     "name": "stderr",
     "output_type": "stream",
     "text": [
      "/Users/mykhailokilianovskyi/src/aisc_oocl_experiments/notebooks/../data.py:271: UserWarning: To copy construct from a tensor, it is recommended to use sourceTensor.clone().detach() or sourceTensor.clone().detach().requires_grad_(True), rather than torch.tensor(sourceTensor).\n",
      "  cur_question_tensor = torch.cat(\n"
     ]
    },
    {
     "data": {
      "text/html": [
       "Finishing last run (ID:rpo0j5lq) before initializing another..."
      ],
      "text/plain": [
       "<IPython.core.display.HTML object>"
      ]
     },
     "metadata": {},
     "output_type": "display_data"
    },
    {
     "data": {
      "application/vnd.jupyter.widget-view+json": {
       "model_id": "eb12c5a5877b47369d2981b99d1a9db0",
       "version_major": 2,
       "version_minor": 0
      },
      "text/plain": [
       "VBox(children=(Label(value='0.001 MB of 0.001 MB uploaded\\r'), FloatProgress(value=1.0, max=1.0)))"
      ]
     },
     "metadata": {},
     "output_type": "display_data"
    },
    {
     "data": {
      "text/html": [
       "<style>\n",
       "    table.wandb td:nth-child(1) { padding: 0 10px; text-align: left ; width: auto;} td:nth-child(2) {text-align: left ; width: 100%}\n",
       "    .wandb-row { display: flex; flex-direction: row; flex-wrap: wrap; justify-content: flex-start; width: 100% }\n",
       "    .wandb-col { display: flex; flex-direction: column; flex-basis: 100%; flex: 1; padding: 10px; }\n",
       "    </style>\n",
       "<div class=\"wandb-row\"><div class=\"wandb-col\"><h3>Run history:</h3><br/><table class=\"wandb\"><tr><td>grad_cos_sim_Df4</td><td>█▂▃▃▅▆▄▅▅▅▆▆▂▂▁▁▂▂▂▁▁▁</td></tr><tr><td>grad_cos_sim_Dt3</td><td>▇▅▆▆▅▄▅▆▆▇██▄▂▂▂▂▂▂▃▁▁</td></tr><tr><td>orig_data_valid_loss</td><td>▃▃█▁▄▃▇▂▂▁▂▁▁▂▁▁▁▁▁▁▁▄▄▂▁▁▁▁▁▁▁▁▁▁▁▁▁▁▁▁</td></tr><tr><td>step</td><td>▁▁▁▂▂▂▂▂▂▃▃▃▃▃▄▄▄▄▄▄▅▅▅▅▅▅▆▆▆▆▆▇▇▇▇▇▇███</td></tr><tr><td>train_loss</td><td>▃▂▂▁▁▁▁▁▁▁▁▁▁▁▁▁▁▁▁▁█▄▃▂▂▂▂▂▂▁▁▁▁▁▁▁▁▁▁▁</td></tr><tr><td>val/loss</td><td>▃▁▂▄▄▄▄▄▅▅▆▆▅▅▆▆▆▆▆▆▇▇▇█▇▇▇█████████████</td></tr><tr><td>valid_Df4/acc</td><td>▄▅▅▅▄▅▆▆██▅▇▆█▇▇▂▄▁▂▃▄▂▅▅▅██▅▅▅▅▅▆▇▇▆▇▇▇</td></tr><tr><td>valid_Df4/loss</td><td>▁▁▂▃▃▃▄▄▄▄▅▄▄▅▄▄▅▅▅▆▅▆▇██████▇██████████</td></tr><tr><td>valid_DfQ2/acc</td><td>▁█▆▆▆▆▆▇▇▇▇▇▇███▇████▇▇▇▇█▇▇▇▇▇█████████</td></tr><tr><td>valid_DfQ2/loss</td><td>▂▁▂▄▄▄▄▄▅▅▅▆▅▅▅▅▆▆▆▆▆▆▇██▇████████▇▇▇███</td></tr><tr><td>valid_Dt3/acc</td><td>▂▁▁▁▁▁▂▁▂▂▂▂▂▂▂▂▃▃▃▃▃▃▅▆▆▇▇▇▇▇▆▆▇▇▇▇▇███</td></tr><tr><td>valid_Dt3/loss</td><td>▁▂▃▄▄▅▅▅▆▇▇▆▆▆▇▆▇█████▇██▇██▇▇▇▇▇▇▇▇▇▇▇▇</td></tr><tr><td>valid_DtQ1/acc</td><td>▁▇▇▇██▇█▇▇▇██████████▇▇▇███████▇▇███████</td></tr><tr><td>valid_DtQ1/loss</td><td>▄▁▂▃▄▄▄▄▅▅▆▆▆▆▆▆▇▇▇▇▇▇▇█▇▇▇▇█▇██████████</td></tr><tr><td>wnorm/blocks.0.attn.W_K</td><td>▁▃▄▄▅▅▅▅▅▅▅▅▅▅▅▅▅▅▅▅▅▆▇▇████████████████</td></tr><tr><td>wnorm/blocks.0.attn.W_O</td><td>▁▂▄▅▆▆▆▇▇▇▇▇▇▇▇▇▇▇▇▇▆▆▇█████████████████</td></tr><tr><td>wnorm/blocks.0.attn.W_Q</td><td>▁▂▄▅▅▆▆▆▆▆▆▆▆▆▆▆▆▆▆▆▆▆▇▇▇▇▇▇▇███████████</td></tr><tr><td>wnorm/blocks.0.attn.W_V</td><td>▁▂▄▅▆▆▆▇▇▇▇▇▇▇▇▇▇▇▇▇▆▆▇█████████████████</td></tr><tr><td>wnorm/blocks.0.attn.b_K</td><td>▁▁▂█▇▇▅▃▂▂▂▂▃▂▃▃▂▂▂▂▂▂▃▄▃▂▂▃▄▄▄▄▄▄▄▄▄▄▄▄</td></tr><tr><td>wnorm/blocks.0.attn.b_O</td><td>▂▁▂▃▄▅▅▅▆▆▆▇▇▇▇▇▇▇▇▇██▇▇▇▇▇▇▇▇▇█████████</td></tr><tr><td>wnorm/blocks.0.attn.b_Q</td><td>▇██▇▆▅▄▄▃▃▃▂▂▂▁▁▁▁▁▁▁▁▁▂▂▂▂▂▂▂▂▂▂▂▂▂▂▂▂▂</td></tr><tr><td>wnorm/blocks.0.attn.b_V</td><td>▁▁▃▅▆▇▇▇▇███████▇▇▇▇▇▆▇█▇▇▇▇██▇█████████</td></tr><tr><td>wnorm/blocks.0.mlp.W_in</td><td>▁▂▃▄▅▅▆▆▆▆▆▆▆▆▆▆▆▆▆▆▆▆▇▇████████████████</td></tr><tr><td>wnorm/blocks.0.mlp.W_out</td><td>▁▂▃▄▅▅▆▆▆▆▆▆▆▆▇▇▇▇▇▇▇▇▇█████████████████</td></tr><tr><td>wnorm/blocks.0.mlp.b_in</td><td>█▅▄▄▄▄▄▄▄▄▄▅▄▅▅▄▄▄▃▄▄▃▃▃▃▂▂▂▂▂▂▂▂▂▂▁▁▁▁▁</td></tr><tr><td>wnorm/blocks.0.mlp.b_out</td><td>▁▂▅▇▇▇▇▇▇▇▇▇▇▇▇▇▇▇▇▇▇▇███████████████▇▇▇</td></tr><tr><td>wnorm/embed.W_E</td><td>▁▂▂▃▃▃▄▄▄▄▄▅▅▅▆▆▆▆▇▇▇▇▇█████████████████</td></tr><tr><td>wnorm/pos_embed.W_pos</td><td>▁▃▅▆▇▇▇▇███▇▇▇▇▇▇▇▇▇▇▆▆▇▇▇▇▇██▇█████▇███</td></tr><tr><td>wnorm/unembed.W_U</td><td>▁▄▆▆▆▆▆▆▆▆▇▇▇▇▇▇▇▇▇▇▇▇██████████████████</td></tr><tr><td>wnorm/unembed.b_U</td><td>▁▅▆▆▆▆▆▆▆▅▅▅▅▅▅▅▅▅▅▅▅▇██████████████████</td></tr></table><br/></div><div class=\"wandb-col\"><h3>Run summary:</h3><br/><table class=\"wandb\"><tr><td>grad_cos_sim_Df4</td><td>-0.1355</td></tr><tr><td>grad_cos_sim_Dt3</td><td>-0.07517</td></tr><tr><td>orig_data_valid_loss</td><td>1e-05</td></tr><tr><td>step</td><td>999</td></tr><tr><td>train_loss</td><td>0.41107</td></tr><tr><td>val/loss</td><td>6.35229</td></tr><tr><td>valid_Df4/acc</td><td>0.08333</td></tr><tr><td>valid_Df4/loss</td><td>23.33585</td></tr><tr><td>valid_DfQ2/acc</td><td>0.63333</td></tr><tr><td>valid_DfQ2/loss</td><td>7.1005</td></tr><tr><td>valid_Dt3/acc</td><td>0.20278</td></tr><tr><td>valid_Dt3/loss</td><td>13.33834</td></tr><tr><td>valid_DtQ1/acc</td><td>0.72222</td></tr><tr><td>valid_DtQ1/loss</td><td>5.60407</td></tr><tr><td>wnorm/blocks.0.attn.W_K</td><td>21.72436</td></tr><tr><td>wnorm/blocks.0.attn.W_O</td><td>20.21696</td></tr><tr><td>wnorm/blocks.0.attn.W_Q</td><td>37.80989</td></tr><tr><td>wnorm/blocks.0.attn.W_V</td><td>21.17438</td></tr><tr><td>wnorm/blocks.0.attn.b_K</td><td>0.01227</td></tr><tr><td>wnorm/blocks.0.attn.b_O</td><td>1.21947</td></tr><tr><td>wnorm/blocks.0.attn.b_Q</td><td>0.77692</td></tr><tr><td>wnorm/blocks.0.attn.b_V</td><td>0.42356</td></tr><tr><td>wnorm/blocks.0.mlp.W_in</td><td>22.62299</td></tr><tr><td>wnorm/blocks.0.mlp.W_out</td><td>23.26911</td></tr><tr><td>wnorm/blocks.0.mlp.b_in</td><td>0.94574</td></tr><tr><td>wnorm/blocks.0.mlp.b_out</td><td>1.40312</td></tr><tr><td>wnorm/embed.W_E</td><td>8.80206</td></tr><tr><td>wnorm/pos_embed.W_pos</td><td>1.41468</td></tr><tr><td>wnorm/unembed.W_U</td><td>11.40465</td></tr><tr><td>wnorm/unembed.b_U</td><td>1.07628</td></tr></table><br/></div></div>"
      ],
      "text/plain": [
       "<IPython.core.display.HTML object>"
      ]
     },
     "metadata": {},
     "output_type": "display_data"
    },
    {
     "data": {
      "text/html": [
       " View run <strong style=\"color:#cdcd00\">seed=6</strong> at: <a href='https://wandb.ai/kilianovski/misha-iml/runs/rpo0j5lq' target=\"_blank\">https://wandb.ai/kilianovski/misha-iml/runs/rpo0j5lq</a><br/> View job at <a href='https://wandb.ai/kilianovski/misha-iml/jobs/QXJ0aWZhY3RDb2xsZWN0aW9uOjQxMzgxNzE1Mg==/version_details/v2' target=\"_blank\">https://wandb.ai/kilianovski/misha-iml/jobs/QXJ0aWZhY3RDb2xsZWN0aW9uOjQxMzgxNzE1Mg==/version_details/v2</a><br/>Synced 6 W&B file(s), 0 media file(s), 0 artifact file(s) and 0 other file(s)"
      ],
      "text/plain": [
       "<IPython.core.display.HTML object>"
      ]
     },
     "metadata": {},
     "output_type": "display_data"
    },
    {
     "data": {
      "text/html": [
       "Find logs at: <code>./wandb/run-20240816_133522-rpo0j5lq/logs</code>"
      ],
      "text/plain": [
       "<IPython.core.display.HTML object>"
      ]
     },
     "metadata": {},
     "output_type": "display_data"
    },
    {
     "data": {
      "text/html": [
       "Successfully finished last run (ID:rpo0j5lq). Initializing new run:<br/>"
      ],
      "text/plain": [
       "<IPython.core.display.HTML object>"
      ]
     },
     "metadata": {},
     "output_type": "display_data"
    },
    {
     "data": {
      "application/vnd.jupyter.widget-view+json": {
       "model_id": "1334423c5cb04a919b522c6bf357ab9e",
       "version_major": 2,
       "version_minor": 0
      },
      "text/plain": [
       "VBox(children=(Label(value='Waiting for wandb.init()...\\r'), FloatProgress(value=0.011167950000769148, max=1.0…"
      ]
     },
     "metadata": {},
     "output_type": "display_data"
    },
    {
     "data": {
      "text/html": [
       "wandb version 0.17.7 is available!  To upgrade, please run:\n",
       " $ pip install wandb --upgrade"
      ],
      "text/plain": [
       "<IPython.core.display.HTML object>"
      ]
     },
     "metadata": {},
     "output_type": "display_data"
    },
    {
     "data": {
      "text/html": [
       "Tracking run with wandb version 0.16.2"
      ],
      "text/plain": [
       "<IPython.core.display.HTML object>"
      ]
     },
     "metadata": {},
     "output_type": "display_data"
    },
    {
     "data": {
      "text/html": [
       "Run data is saved locally in <code>/Users/mykhailokilianovskyi/src/aisc_oocl_experiments/notebooks/wandb/run-20240816_134516-3ylhmb8h</code>"
      ],
      "text/plain": [
       "<IPython.core.display.HTML object>"
      ]
     },
     "metadata": {},
     "output_type": "display_data"
    },
    {
     "data": {
      "text/html": [
       "Syncing run <strong><a href='https://wandb.ai/kilianovski/misha-iml/runs/3ylhmb8h' target=\"_blank\">seed=7</a></strong> to <a href='https://wandb.ai/kilianovski/misha-iml' target=\"_blank\">Weights & Biases</a> (<a href='https://wandb.me/run' target=\"_blank\">docs</a>)<br/>"
      ],
      "text/plain": [
       "<IPython.core.display.HTML object>"
      ]
     },
     "metadata": {},
     "output_type": "display_data"
    },
    {
     "data": {
      "text/html": [
       " View project at <a href='https://wandb.ai/kilianovski/misha-iml' target=\"_blank\">https://wandb.ai/kilianovski/misha-iml</a>"
      ],
      "text/plain": [
       "<IPython.core.display.HTML object>"
      ]
     },
     "metadata": {},
     "output_type": "display_data"
    },
    {
     "data": {
      "text/html": [
       " View run at <a href='https://wandb.ai/kilianovski/misha-iml/runs/3ylhmb8h' target=\"_blank\">https://wandb.ai/kilianovski/misha-iml/runs/3ylhmb8h</a>"
      ],
      "text/plain": [
       "<IPython.core.display.HTML object>"
      ]
     },
     "metadata": {},
     "output_type": "display_data"
    },
    {
     "name": "stdout",
     "output_type": "stream",
     "text": [
      "seed=7\n",
      "int_by_set\n",
      "{'DtQ1': [67, 112, 34, 85, 3, 51, 61, 75, 119, 0, 1, 57, 58, 87, 40, 16, 43, 14, 25, 107, 77, 79, 22, 106, 48, 42, 81, 98, 110, 35], 'DfQ2': [45, 113, 36, 56, 52, 100, 65, 118, 91, 21, 103, 76, 62, 59, 116, 114, 99, 10, 38, 44, 66, 60, 31, 33, 32, 2, 84, 86, 78, 95], 'Dt3': [29, 20, 49, 97, 63, 26, 89, 101, 111, 47, 24, 13, 23, 82, 39, 88, 94, 69, 18, 102, 37, 17, 71, 5, 93, 115, 117, 90, 73, 96], 'Df4': [109, 92, 80, 28, 15, 72, 108, 54, 70, 104, 30, 8, 53, 55, 11, 4, 27, 64, 7, 74, 46, 12, 68, 105, 9, 6, 83, 50, 19, 41]}\n",
      "loaded from ./multiplication_model.pt\n",
      "+--------------------+------------+\n",
      "|      Modules       | Parameters |\n",
      "+--------------------+------------+\n",
      "|     embed.W_E      |   249856   |\n",
      "|  pos_embed.W_pos   |    5120    |\n",
      "| blocks.0.attn.W_Q  |  1048576   |\n",
      "| blocks.0.attn.W_O  |  1048576   |\n",
      "| blocks.0.attn.b_Q  |    1024    |\n",
      "| blocks.0.attn.b_O  |    1024    |\n",
      "| blocks.0.attn.W_K  |  1048576   |\n",
      "| blocks.0.attn.W_V  |  1048576   |\n",
      "| blocks.0.attn.b_K  |    1024    |\n",
      "| blocks.0.attn.b_V  |    1024    |\n",
      "| blocks.0.mlp.W_in  |  4194304   |\n",
      "| blocks.0.mlp.b_in  |    4096    |\n",
      "| blocks.0.mlp.W_out |  4194304   |\n",
      "| blocks.0.mlp.b_out |    1024    |\n",
      "|    unembed.W_U     |   249856   |\n",
      "|    unembed.b_U     |    244     |\n",
      "+--------------------+------------+\n",
      "Total Trainable Params: 13097204\n"
     ]
    },
    {
     "data": {
      "application/vnd.jupyter.widget-view+json": {
       "model_id": "ad807caf018a4d2fb956df7ed8150f94",
       "version_major": 2,
       "version_minor": 0
      },
      "text/plain": [
       "  0%|          | 0/500 [00:00<?, ?it/s]"
      ]
     },
     "metadata": {},
     "output_type": "display_data"
    },
    {
     "name": "stdout",
     "output_type": "stream",
     "text": [
      "saved to stage1__multiplication_model.pt\n"
     ]
    },
    {
     "data": {
      "application/vnd.jupyter.widget-view+json": {
       "model_id": "68d797c8b9ba4152bbd0b58adefef1ce",
       "version_major": 2,
       "version_minor": 0
      },
      "text/plain": [
       "  0%|          | 0/500 [00:00<?, ?it/s]"
      ]
     },
     "metadata": {},
     "output_type": "display_data"
    },
    {
     "name": "stdout",
     "output_type": "stream",
     "text": [
      "saved to stage2__multiplication_model.pt\n",
      "Moving model to device:  cpu\n"
     ]
    },
    {
     "name": "stderr",
     "output_type": "stream",
     "text": [
      "/Users/mykhailokilianovskyi/src/aisc_oocl_experiments/notebooks/../data.py:271: UserWarning: To copy construct from a tensor, it is recommended to use sourceTensor.clone().detach() or sourceTensor.clone().detach().requires_grad_(True), rather than torch.tensor(sourceTensor).\n",
      "  cur_question_tensor = torch.cat(\n"
     ]
    },
    {
     "data": {
      "text/html": [
       "Finishing last run (ID:3ylhmb8h) before initializing another..."
      ],
      "text/plain": [
       "<IPython.core.display.HTML object>"
      ]
     },
     "metadata": {},
     "output_type": "display_data"
    },
    {
     "data": {
      "application/vnd.jupyter.widget-view+json": {
       "model_id": "1e0df0fc77c54d679866639dd138a2dd",
       "version_major": 2,
       "version_minor": 0
      },
      "text/plain": [
       "VBox(children=(Label(value='0.001 MB of 0.001 MB uploaded\\r'), FloatProgress(value=1.0, max=1.0)))"
      ]
     },
     "metadata": {},
     "output_type": "display_data"
    },
    {
     "data": {
      "text/html": [
       "<style>\n",
       "    table.wandb td:nth-child(1) { padding: 0 10px; text-align: left ; width: auto;} td:nth-child(2) {text-align: left ; width: 100%}\n",
       "    .wandb-row { display: flex; flex-direction: row; flex-wrap: wrap; justify-content: flex-start; width: 100% }\n",
       "    .wandb-col { display: flex; flex-direction: column; flex-basis: 100%; flex: 1; padding: 10px; }\n",
       "    </style>\n",
       "<div class=\"wandb-row\"><div class=\"wandb-col\"><h3>Run history:</h3><br/><table class=\"wandb\"><tr><td>grad_cos_sim_Df4</td><td>█▅▄▄▄▃▄▃▄▄▄▅▄▃▄▂▂▁▂▁▁▁</td></tr><tr><td>grad_cos_sim_Dt3</td><td>▆█▇▇▆▇▇▆▇▆▆▆▃▃▄▂▁▁▂▁▁▁</td></tr><tr><td>orig_data_valid_loss</td><td>▁▃▆▁▁▃▂▁▁▂▁▁▃▅▅▁█▄▇▁▂▂▃▄▃▁▁▁▁▁▁▁▁▁▁▁▁▁▁▁</td></tr><tr><td>step</td><td>▁▁▁▂▂▂▂▂▂▃▃▃▃▃▄▄▄▄▄▄▅▅▅▅▅▅▆▆▆▆▆▇▇▇▇▇▇███</td></tr><tr><td>train_loss</td><td>▄▃▂▂▁▁▁▁▁▁▁▁▁▁▁▁▁▁▁▁█▄▃▂▂▂▂▂▁▁▁▁▁▁▁▁▁▁▁▁</td></tr><tr><td>val/loss</td><td>▄▁▃▄▄▄▅▅▅▅▅▅▅▅▅▅▅▅▅▅▅▆█▇▇▇▇▇▇▇▇▇▇▇▇▆▆▆▆▇</td></tr><tr><td>valid_Df4/acc</td><td>▂▁▂▃▂▂▃▃▂▃▄▄▃▄▃▃▃▂▄▅▃▁▂▃▄▂▃▄▅▄▅▅▅▅▅▇▇▇█▇</td></tr><tr><td>valid_Df4/loss</td><td>▁▁▂▃▃▃▃▃▄▄▄▄▅▄▅▅▆▅▆▆▆▇██████████████████</td></tr><tr><td>valid_DfQ2/acc</td><td>▁█▇▆▇▆▇▇▇▇██▇████████▇▆▇▆▆▇▇▆▇▇▇▇▇▇▇▇▇▇▇</td></tr><tr><td>valid_DfQ2/loss</td><td>▃▁▃▄▄▄▄▄▄▄▄▅▄▄▅▅▆▅▅▆▅▆▇▇▇▇▇▇▇▇▇▇▇▇▇▇▇▇▇█</td></tr><tr><td>valid_Dt3/acc</td><td>▁▂▁▂▂▂▁▂▃▃▃▂▃▂▂▂▂▂▁▁▃▅▄▅▅▄▃▄▄▄▅▅▅▅▅▆▇▇▇█</td></tr><tr><td>valid_Dt3/loss</td><td>▁▂▃▄▄▅▅▅▅▅▆▅▆▅▇▆█▇█████▇███▇▇▇▇▆▇▇▇▆▆▆▆▇</td></tr><tr><td>valid_DtQ1/acc</td><td>▁▆▇▇▇▇▇▇▇▇▇▇████▇▇▇█▇▇▆▇▇▇▆▇▇▇▇▇▇▇▇▇▇▇▇▇</td></tr><tr><td>valid_DtQ1/loss</td><td>▄▁▂▃▃▄▄▅▆▆▆▆▅▅▄▄▄▄▄▅▄▆█▆▆▆▆▆▆▆▆▅▆▆▆▅▅▅▅▅</td></tr><tr><td>wnorm/blocks.0.attn.W_K</td><td>▁▃▅▅▆▆▆▆▆▆▆▆▅▅▅▅▅▅▅▅▅▆▇█████████████████</td></tr><tr><td>wnorm/blocks.0.attn.W_O</td><td>▁▂▄▅▅▆▆▆▆▆▆▆▆▆▆▆▆▆▆▆▆▆▇█████████████████</td></tr><tr><td>wnorm/blocks.0.attn.W_Q</td><td>▁▃▄▅▆▆▆▆▆▆▆▆▆▆▆▆▆▆▆▆▆▇▇▇▇▇██████████████</td></tr><tr><td>wnorm/blocks.0.attn.W_V</td><td>▁▂▄▅▅▆▆▆▆▆▆▆▆▆▆▆▆▆▆▆▆▆▇█████████████████</td></tr><tr><td>wnorm/blocks.0.attn.b_K</td><td>▃██▆▅▅▅▅▅▅▅▅▄▄▄▄▄▄▄▄▄▄▃▃▂▂▁▁▁▁▁▁▁▁▁▁▂▂▂▂</td></tr><tr><td>wnorm/blocks.0.attn.b_O</td><td>▃▁▂▃▄▄▅▅▅▅▆▅▆▆▆▆▆▆▆▆▇▆▆▆▆▇▇▇▇▇▇▇▇███████</td></tr><tr><td>wnorm/blocks.0.attn.b_Q</td><td>▁▄▆███▇█▇▇▇▇▇▇▆▇▆▆▆▆▆▅▅▅▅▆▅▅▅▅▅▅▅▅▅▅▅▅▅▅</td></tr><tr><td>wnorm/blocks.0.attn.b_V</td><td>▂▁▃▅▆▇▇████▇▇███████▇▆▇▇▇▇▇█████████████</td></tr><tr><td>wnorm/blocks.0.mlp.W_in</td><td>▁▂▃▄▄▅▅▅▅▅▆▆▆▆▆▆▆▆▆▆▆▆▇▇▇▇▇▇████████████</td></tr><tr><td>wnorm/blocks.0.mlp.W_out</td><td>▁▂▃▄▅▅▅▅▆▆▆▆▆▆▆▆▆▆▆▆▆▆▇▇▇▇▇█████████████</td></tr><tr><td>wnorm/blocks.0.mlp.b_in</td><td>█▆▅▅▅▄▄▄▄▃▂▂▃▂▂▁▁▁▁▂▂▂▂▂▂▂▂▂▂▂▁▁▁▂▂▂▂▂▂▂</td></tr><tr><td>wnorm/blocks.0.mlp.b_out</td><td>▁▁▄▇▇▇▇▇▇▇▇▇▇▇▇▇▇▇▇▆▆▇█████████████████▇</td></tr><tr><td>wnorm/embed.W_E</td><td>▁▂▂▃▃▃▃▄▄▄▄▄▅▅▅▆▆▆▇▇▇▇██████████████████</td></tr><tr><td>wnorm/pos_embed.W_pos</td><td>▁▂▄▅▆▅▆▆▆▆▆▆▆▆▆▆▆▆▆▇▇▆▆▇▇▇▇▇██▇█▇▇▇█████</td></tr><tr><td>wnorm/unembed.W_U</td><td>▁▄▆▆▆▆▆▆▆▆▆▆▇▇▇▇▇▇▇▇▇▇██████████████████</td></tr><tr><td>wnorm/unembed.b_U</td><td>▁▅▆▆▆▆▆▆▆▆▆▆▆▆▆▆▆▆▆▆▆▇██████████████████</td></tr></table><br/></div><div class=\"wandb-col\"><h3>Run summary:</h3><br/><table class=\"wandb\"><tr><td>grad_cos_sim_Df4</td><td>-0.10359</td></tr><tr><td>grad_cos_sim_Dt3</td><td>0.01576</td></tr><tr><td>orig_data_valid_loss</td><td>8e-05</td></tr><tr><td>step</td><td>999</td></tr><tr><td>train_loss</td><td>0.30198</td></tr><tr><td>val/loss</td><td>5.09423</td></tr><tr><td>valid_Df4/acc</td><td>0.10556</td></tr><tr><td>valid_Df4/loss</td><td>21.85872</td></tr><tr><td>valid_DfQ2/acc</td><td>0.57778</td></tr><tr><td>valid_DfQ2/loss</td><td>6.15848</td></tr><tr><td>valid_Dt3/acc</td><td>0.19167</td></tr><tr><td>valid_Dt3/loss</td><td>13.75764</td></tr><tr><td>valid_DtQ1/acc</td><td>0.61852</td></tr><tr><td>valid_DtQ1/loss</td><td>4.02997</td></tr><tr><td>wnorm/blocks.0.attn.W_K</td><td>21.47601</td></tr><tr><td>wnorm/blocks.0.attn.W_O</td><td>20.45055</td></tr><tr><td>wnorm/blocks.0.attn.W_Q</td><td>35.56115</td></tr><tr><td>wnorm/blocks.0.attn.W_V</td><td>21.33448</td></tr><tr><td>wnorm/blocks.0.attn.b_K</td><td>0.01144</td></tr><tr><td>wnorm/blocks.0.attn.b_O</td><td>1.19915</td></tr><tr><td>wnorm/blocks.0.attn.b_Q</td><td>1.22894</td></tr><tr><td>wnorm/blocks.0.attn.b_V</td><td>0.41314</td></tr><tr><td>wnorm/blocks.0.mlp.W_in</td><td>22.79984</td></tr><tr><td>wnorm/blocks.0.mlp.W_out</td><td>23.49236</td></tr><tr><td>wnorm/blocks.0.mlp.b_in</td><td>0.93896</td></tr><tr><td>wnorm/blocks.0.mlp.b_out</td><td>1.37414</td></tr><tr><td>wnorm/embed.W_E</td><td>8.95627</td></tr><tr><td>wnorm/pos_embed.W_pos</td><td>1.44014</td></tr><tr><td>wnorm/unembed.W_U</td><td>11.49264</td></tr><tr><td>wnorm/unembed.b_U</td><td>1.07232</td></tr></table><br/></div></div>"
      ],
      "text/plain": [
       "<IPython.core.display.HTML object>"
      ]
     },
     "metadata": {},
     "output_type": "display_data"
    },
    {
     "data": {
      "text/html": [
       " View run <strong style=\"color:#cdcd00\">seed=7</strong> at: <a href='https://wandb.ai/kilianovski/misha-iml/runs/3ylhmb8h' target=\"_blank\">https://wandb.ai/kilianovski/misha-iml/runs/3ylhmb8h</a><br/> View job at <a href='https://wandb.ai/kilianovski/misha-iml/jobs/QXJ0aWZhY3RDb2xsZWN0aW9uOjQxMzgxNzE1Mg==/version_details/v2' target=\"_blank\">https://wandb.ai/kilianovski/misha-iml/jobs/QXJ0aWZhY3RDb2xsZWN0aW9uOjQxMzgxNzE1Mg==/version_details/v2</a><br/>Synced 6 W&B file(s), 0 media file(s), 0 artifact file(s) and 0 other file(s)"
      ],
      "text/plain": [
       "<IPython.core.display.HTML object>"
      ]
     },
     "metadata": {},
     "output_type": "display_data"
    },
    {
     "data": {
      "text/html": [
       "Find logs at: <code>./wandb/run-20240816_134516-3ylhmb8h/logs</code>"
      ],
      "text/plain": [
       "<IPython.core.display.HTML object>"
      ]
     },
     "metadata": {},
     "output_type": "display_data"
    },
    {
     "data": {
      "text/html": [
       "Successfully finished last run (ID:3ylhmb8h). Initializing new run:<br/>"
      ],
      "text/plain": [
       "<IPython.core.display.HTML object>"
      ]
     },
     "metadata": {},
     "output_type": "display_data"
    },
    {
     "data": {
      "application/vnd.jupyter.widget-view+json": {
       "model_id": "acbff8ae07cd4ca08f2f5e5c17a50345",
       "version_major": 2,
       "version_minor": 0
      },
      "text/plain": [
       "VBox(children=(Label(value='Waiting for wandb.init()...\\r'), FloatProgress(value=0.011168235178209014, max=1.0…"
      ]
     },
     "metadata": {},
     "output_type": "display_data"
    },
    {
     "data": {
      "text/html": [
       "wandb version 0.17.7 is available!  To upgrade, please run:\n",
       " $ pip install wandb --upgrade"
      ],
      "text/plain": [
       "<IPython.core.display.HTML object>"
      ]
     },
     "metadata": {},
     "output_type": "display_data"
    },
    {
     "data": {
      "text/html": [
       "Tracking run with wandb version 0.16.2"
      ],
      "text/plain": [
       "<IPython.core.display.HTML object>"
      ]
     },
     "metadata": {},
     "output_type": "display_data"
    },
    {
     "data": {
      "text/html": [
       "Run data is saved locally in <code>/Users/mykhailokilianovskyi/src/aisc_oocl_experiments/notebooks/wandb/run-20240816_135439-04ilq54j</code>"
      ],
      "text/plain": [
       "<IPython.core.display.HTML object>"
      ]
     },
     "metadata": {},
     "output_type": "display_data"
    },
    {
     "data": {
      "text/html": [
       "Syncing run <strong><a href='https://wandb.ai/kilianovski/misha-iml/runs/04ilq54j' target=\"_blank\">seed=8</a></strong> to <a href='https://wandb.ai/kilianovski/misha-iml' target=\"_blank\">Weights & Biases</a> (<a href='https://wandb.me/run' target=\"_blank\">docs</a>)<br/>"
      ],
      "text/plain": [
       "<IPython.core.display.HTML object>"
      ]
     },
     "metadata": {},
     "output_type": "display_data"
    },
    {
     "data": {
      "text/html": [
       " View project at <a href='https://wandb.ai/kilianovski/misha-iml' target=\"_blank\">https://wandb.ai/kilianovski/misha-iml</a>"
      ],
      "text/plain": [
       "<IPython.core.display.HTML object>"
      ]
     },
     "metadata": {},
     "output_type": "display_data"
    },
    {
     "data": {
      "text/html": [
       " View run at <a href='https://wandb.ai/kilianovski/misha-iml/runs/04ilq54j' target=\"_blank\">https://wandb.ai/kilianovski/misha-iml/runs/04ilq54j</a>"
      ],
      "text/plain": [
       "<IPython.core.display.HTML object>"
      ]
     },
     "metadata": {},
     "output_type": "display_data"
    },
    {
     "name": "stdout",
     "output_type": "stream",
     "text": [
      "seed=8\n",
      "int_by_set\n",
      "{'DtQ1': [25, 111, 50, 21, 96, 74, 80, 116, 23, 57, 42, 15, 59, 70, 92, 104, 71, 113, 36, 55, 40, 65, 77, 1, 53, 93, 88, 61, 0, 76], 'DfQ2': [75, 39, 114, 44, 83, 98, 9, 22, 28, 87, 38, 54, 78, 67, 6, 72, 68, 45, 32, 112, 105, 108, 118, 20, 19, 85, 41, 27, 110, 35], 'Dt3': [56, 37, 46, 101, 69, 97, 94, 4, 81, 18, 107, 91, 99, 95, 30, 43, 7, 13, 86, 79, 100, 8, 12, 33, 84, 14, 117, 60, 52, 66], 'Df4': [34, 89, 2, 119, 102, 11, 106, 115, 73, 63, 49, 109, 62, 58, 3, 82, 51, 26, 64, 103, 31, 17, 10, 5, 90, 24, 16, 48, 47, 29]}\n",
      "loaded from ./multiplication_model.pt\n",
      "+--------------------+------------+\n",
      "|      Modules       | Parameters |\n",
      "+--------------------+------------+\n",
      "|     embed.W_E      |   249856   |\n",
      "|  pos_embed.W_pos   |    5120    |\n",
      "| blocks.0.attn.W_Q  |  1048576   |\n",
      "| blocks.0.attn.W_O  |  1048576   |\n",
      "| blocks.0.attn.b_Q  |    1024    |\n",
      "| blocks.0.attn.b_O  |    1024    |\n",
      "| blocks.0.attn.W_K  |  1048576   |\n",
      "| blocks.0.attn.W_V  |  1048576   |\n",
      "| blocks.0.attn.b_K  |    1024    |\n",
      "| blocks.0.attn.b_V  |    1024    |\n",
      "| blocks.0.mlp.W_in  |  4194304   |\n",
      "| blocks.0.mlp.b_in  |    4096    |\n",
      "| blocks.0.mlp.W_out |  4194304   |\n",
      "| blocks.0.mlp.b_out |    1024    |\n",
      "|    unembed.W_U     |   249856   |\n",
      "|    unembed.b_U     |    244     |\n",
      "+--------------------+------------+\n",
      "Total Trainable Params: 13097204\n"
     ]
    },
    {
     "data": {
      "application/vnd.jupyter.widget-view+json": {
       "model_id": "54768d9ac44244bd81001f3e0ccb916b",
       "version_major": 2,
       "version_minor": 0
      },
      "text/plain": [
       "  0%|          | 0/500 [00:00<?, ?it/s]"
      ]
     },
     "metadata": {},
     "output_type": "display_data"
    },
    {
     "name": "stdout",
     "output_type": "stream",
     "text": [
      "saved to stage1__multiplication_model.pt\n"
     ]
    },
    {
     "data": {
      "application/vnd.jupyter.widget-view+json": {
       "model_id": "f314320eb7394badae8656c7ee6ad044",
       "version_major": 2,
       "version_minor": 0
      },
      "text/plain": [
       "  0%|          | 0/500 [00:00<?, ?it/s]"
      ]
     },
     "metadata": {},
     "output_type": "display_data"
    },
    {
     "name": "stdout",
     "output_type": "stream",
     "text": [
      "saved to stage2__multiplication_model.pt\n",
      "Moving model to device:  cpu\n"
     ]
    },
    {
     "name": "stderr",
     "output_type": "stream",
     "text": [
      "/Users/mykhailokilianovskyi/src/aisc_oocl_experiments/notebooks/../data.py:271: UserWarning: To copy construct from a tensor, it is recommended to use sourceTensor.clone().detach() or sourceTensor.clone().detach().requires_grad_(True), rather than torch.tensor(sourceTensor).\n",
      "  cur_question_tensor = torch.cat(\n"
     ]
    },
    {
     "data": {
      "text/html": [
       "Finishing last run (ID:04ilq54j) before initializing another..."
      ],
      "text/plain": [
       "<IPython.core.display.HTML object>"
      ]
     },
     "metadata": {},
     "output_type": "display_data"
    },
    {
     "data": {
      "application/vnd.jupyter.widget-view+json": {
       "model_id": "6a99fb99e86547c6bc3694d86f5a7f59",
       "version_major": 2,
       "version_minor": 0
      },
      "text/plain": [
       "VBox(children=(Label(value='0.001 MB of 0.001 MB uploaded\\r'), FloatProgress(value=1.0, max=1.0)))"
      ]
     },
     "metadata": {},
     "output_type": "display_data"
    },
    {
     "data": {
      "text/html": [
       "<style>\n",
       "    table.wandb td:nth-child(1) { padding: 0 10px; text-align: left ; width: auto;} td:nth-child(2) {text-align: left ; width: 100%}\n",
       "    .wandb-row { display: flex; flex-direction: row; flex-wrap: wrap; justify-content: flex-start; width: 100% }\n",
       "    .wandb-col { display: flex; flex-direction: column; flex-basis: 100%; flex: 1; padding: 10px; }\n",
       "    </style>\n",
       "<div class=\"wandb-row\"><div class=\"wandb-col\"><h3>Run history:</h3><br/><table class=\"wandb\"><tr><td>grad_cos_sim_Df4</td><td>█▆▅▁▂▂▂▂▁▄▆▅▃▂▁▁▂▂▂▁▂▂</td></tr><tr><td>grad_cos_sim_Dt3</td><td>▇█▇▅▆▅▅▆▄▄▇▆▃▃▂▂▂▃▂▂▂▁</td></tr><tr><td>orig_data_valid_loss</td><td>▁▃▂▁▁▂▂▁▁▂▁▁▃▄▃▁▄▂█▁▁▁▄▂▁▃▁▃▁▁▁▁▁▁▁▁▁▂▂▁</td></tr><tr><td>step</td><td>▁▁▁▂▂▂▂▂▂▃▃▃▃▃▄▄▄▄▄▄▅▅▅▅▅▅▆▆▆▆▆▇▇▇▇▇▇███</td></tr><tr><td>train_loss</td><td>▄▃▂▂▂▁▁▁▁▁▁▁▁▁▁▁▁▁▁▁█▅▃▂▂▂▂▂▁▁▁▁▁▁▁▁▁▁▁▁</td></tr><tr><td>val/loss</td><td>▄▁▂▂▃▃▃▃▃▃▄▄▃▄▄▄▄▄▄▄▄▅▆▆▇▇▇▇▇▇▇▇▇▇▇▇▇▇▇█</td></tr><tr><td>valid_Df4/acc</td><td>▁▂▂▂▂▂▃▃▄▄▄▃▄▄▄▅▄▄▃▄▄▄▅▆▆▅▆▇▆▆▆▇▇▇▇▇▇██▇</td></tr><tr><td>valid_Df4/loss</td><td>▁▁▂▃▃▄▃▃▃▃▄▅▅▅▄▅▆▆▆▆▆▆▇▆▆▇▇▇▇▇▇▇▇▇▇▇▇███</td></tr><tr><td>valid_DfQ2/acc</td><td>▁▇▇▆▇▇▇▇▇▇▇▇▇███▇▇███▇▆▇▇▆▇▇▆▆▆▆▆▆▆▆▆▆▆▇</td></tr><tr><td>valid_DfQ2/loss</td><td>▄▁▂▄▄▄▄▄▄▄▄▄▅▅▄▄▅▅▅▅▅▆█▇▇▇▇▇▇▇▇▇▇▇▇▇▇▇▇█</td></tr><tr><td>valid_Dt3/acc</td><td>▃▃▃▃▃▃▂▂▂▂▂▃▃▂▂▁▂▂▂▁▂▃▅▆▆▇▆▇▇▇▇███▇▇▇█▇▆</td></tr><tr><td>valid_Dt3/loss</td><td>▁▁▂▃▃▄▃▄▄▄▅▅▅▅▅▅▆▆▇▇▆▆▇▆▆▇▇▇▇▇▇▇▇▇▇▇████</td></tr><tr><td>valid_DtQ1/acc</td><td>▁▆▇▇▇▆▇▇▇▇▇███████████▆▇▇▇▇▇▆▆▆▆▆▆▆▆▆▆▆▆</td></tr><tr><td>valid_DtQ1/loss</td><td>▄▁▁▁▂▂▃▂▃▃▃▃▂▃▃▃▃▃▃▄▄▄▅▆▆▇▇▇▇▇▇▇▇▇▇▇████</td></tr><tr><td>wnorm/blocks.0.attn.W_K</td><td>▁▄▅▆▆▇▇▇▇▇▇▇▇▇▇▆▇▇▆▆▇▇▇█████████████████</td></tr><tr><td>wnorm/blocks.0.attn.W_O</td><td>▁▂▄▅▅▆▆▆▆▆▆▆▆▆▆▆▆▆▆▆▆▆▇█████████████████</td></tr><tr><td>wnorm/blocks.0.attn.W_Q</td><td>▁▃▅▆▆▆▇▇▇▆▆▇▇▇▇▇▇▇▇▇▇▇▇▇▇▇▇▇▇▇██████████</td></tr><tr><td>wnorm/blocks.0.attn.W_V</td><td>▁▂▄▅▅▆▆▆▆▆▆▆▆▆▆▆▆▆▆▆▆▆▇█████████████████</td></tr><tr><td>wnorm/blocks.0.attn.b_K</td><td>▅▁▂▄▆█▇▆▇▇▇▆█▆▃▃▃▃▃▂▂▂▁▃▄▃▃▃▄▄▅▅▅▅▅▅▅▅▅▃</td></tr><tr><td>wnorm/blocks.0.attn.b_O</td><td>▂▁▂▃▄▅▅▅▅▆▆▆▆▆▆▆▆▆▆▆▇▇▆▇▇▇▇▇▇▇▇▇▇▇▇▇▇███</td></tr><tr><td>wnorm/blocks.0.attn.b_Q</td><td>▁▃▆██████▇▇▇▆▆▆▆▇▇▇▆▇▇▆▆▆▆▆▆▆▅▅▅▅▆▆▆▅▅▅▅</td></tr><tr><td>wnorm/blocks.0.attn.b_V</td><td>▁▁▂▃▅▅▅▆▆▆▆▆▆▆▆▇▆▆▆▆▆▆▆▇▇▇▇▇▇▇▇▇▇█▇▇███▇</td></tr><tr><td>wnorm/blocks.0.mlp.W_in</td><td>▁▂▃▄▅▅▅▅▆▆▆▆▆▆▆▆▆▆▆▆▆▆▇▇▇███████████████</td></tr><tr><td>wnorm/blocks.0.mlp.W_out</td><td>▁▂▃▄▅▅▅▆▆▆▆▆▆▆▆▆▆▆▆▆▆▇▇▇████████████████</td></tr><tr><td>wnorm/blocks.0.mlp.b_in</td><td>█▅▄▄▄▅▅▅▄▄▃▅▅▄▄▃▂▂▁▂▂▁▁▂▂▂▂▂▂▂▂▂▁▁▁▁▁▁▁▁</td></tr><tr><td>wnorm/blocks.0.mlp.b_out</td><td>▁▂▅▆▇▇██▇▇▇▇▇▇▇▇▇▇▇▆▆▇████████████████▇▇</td></tr><tr><td>wnorm/embed.W_E</td><td>▁▂▂▃▃▃▃▄▄▄▄▄▅▅▅▆▆▆▇▇▇▇██████████████████</td></tr><tr><td>wnorm/pos_embed.W_pos</td><td>▁▂▃▄▅▅▅▅▆▅▅▅▅▆▆▅▆▆▆▇▆▆▆▇▇▇▇▇████████████</td></tr><tr><td>wnorm/unembed.W_U</td><td>▁▄▆▆▆▆▆▇▇▇▇▇▇▇▇▇▇▇▇▇▇▇██████████████████</td></tr><tr><td>wnorm/unembed.b_U</td><td>▁▅▆▆▆▆▆▆▆▆▆▆▆▆▆▆▆▆▆▆▆▇██████████████████</td></tr></table><br/></div><div class=\"wandb-col\"><h3>Run summary:</h3><br/><table class=\"wandb\"><tr><td>grad_cos_sim_Df4</td><td>-0.05346</td></tr><tr><td>grad_cos_sim_Dt3</td><td>-0.04296</td></tr><tr><td>orig_data_valid_loss</td><td>0.00068</td></tr><tr><td>step</td><td>999</td></tr><tr><td>train_loss</td><td>0.27176</td></tr><tr><td>val/loss</td><td>5.12413</td></tr><tr><td>valid_Df4/acc</td><td>0.16389</td></tr><tr><td>valid_Df4/loss</td><td>18.74536</td></tr><tr><td>valid_DfQ2/acc</td><td>0.60741</td></tr><tr><td>valid_DfQ2/loss</td><td>4.56</td></tr><tr><td>valid_Dt3/acc</td><td>0.11389</td></tr><tr><td>valid_Dt3/loss</td><td>16.14165</td></tr><tr><td>valid_DtQ1/acc</td><td>0.75926</td></tr><tr><td>valid_DtQ1/loss</td><td>5.68826</td></tr><tr><td>wnorm/blocks.0.attn.W_K</td><td>21.2708</td></tr><tr><td>wnorm/blocks.0.attn.W_O</td><td>20.42441</td></tr><tr><td>wnorm/blocks.0.attn.W_Q</td><td>35.257</td></tr><tr><td>wnorm/blocks.0.attn.W_V</td><td>21.34027</td></tr><tr><td>wnorm/blocks.0.attn.b_K</td><td>0.0114</td></tr><tr><td>wnorm/blocks.0.attn.b_O</td><td>1.2177</td></tr><tr><td>wnorm/blocks.0.attn.b_Q</td><td>1.20344</td></tr><tr><td>wnorm/blocks.0.attn.b_V</td><td>0.42973</td></tr><tr><td>wnorm/blocks.0.mlp.W_in</td><td>22.7737</td></tr><tr><td>wnorm/blocks.0.mlp.W_out</td><td>23.34923</td></tr><tr><td>wnorm/blocks.0.mlp.b_in</td><td>0.94671</td></tr><tr><td>wnorm/blocks.0.mlp.b_out</td><td>1.34952</td></tr><tr><td>wnorm/embed.W_E</td><td>9.00821</td></tr><tr><td>wnorm/pos_embed.W_pos</td><td>1.45285</td></tr><tr><td>wnorm/unembed.W_U</td><td>11.5066</td></tr><tr><td>wnorm/unembed.b_U</td><td>1.07671</td></tr></table><br/></div></div>"
      ],
      "text/plain": [
       "<IPython.core.display.HTML object>"
      ]
     },
     "metadata": {},
     "output_type": "display_data"
    },
    {
     "data": {
      "text/html": [
       " View run <strong style=\"color:#cdcd00\">seed=8</strong> at: <a href='https://wandb.ai/kilianovski/misha-iml/runs/04ilq54j' target=\"_blank\">https://wandb.ai/kilianovski/misha-iml/runs/04ilq54j</a><br/> View job at <a href='https://wandb.ai/kilianovski/misha-iml/jobs/QXJ0aWZhY3RDb2xsZWN0aW9uOjQxMzgxNzE1Mg==/version_details/v2' target=\"_blank\">https://wandb.ai/kilianovski/misha-iml/jobs/QXJ0aWZhY3RDb2xsZWN0aW9uOjQxMzgxNzE1Mg==/version_details/v2</a><br/>Synced 6 W&B file(s), 0 media file(s), 0 artifact file(s) and 0 other file(s)"
      ],
      "text/plain": [
       "<IPython.core.display.HTML object>"
      ]
     },
     "metadata": {},
     "output_type": "display_data"
    },
    {
     "data": {
      "text/html": [
       "Find logs at: <code>./wandb/run-20240816_135439-04ilq54j/logs</code>"
      ],
      "text/plain": [
       "<IPython.core.display.HTML object>"
      ]
     },
     "metadata": {},
     "output_type": "display_data"
    },
    {
     "data": {
      "text/html": [
       "Successfully finished last run (ID:04ilq54j). Initializing new run:<br/>"
      ],
      "text/plain": [
       "<IPython.core.display.HTML object>"
      ]
     },
     "metadata": {},
     "output_type": "display_data"
    },
    {
     "data": {
      "application/vnd.jupyter.widget-view+json": {
       "model_id": "2dcc009d541d4c7795788f93c5b41b38",
       "version_major": 2,
       "version_minor": 0
      },
      "text/plain": [
       "VBox(children=(Label(value='Waiting for wandb.init()...\\r'), FloatProgress(value=0.011172160189340098, max=1.0…"
      ]
     },
     "metadata": {},
     "output_type": "display_data"
    },
    {
     "data": {
      "text/html": [
       "wandb version 0.17.7 is available!  To upgrade, please run:\n",
       " $ pip install wandb --upgrade"
      ],
      "text/plain": [
       "<IPython.core.display.HTML object>"
      ]
     },
     "metadata": {},
     "output_type": "display_data"
    },
    {
     "data": {
      "text/html": [
       "Tracking run with wandb version 0.16.2"
      ],
      "text/plain": [
       "<IPython.core.display.HTML object>"
      ]
     },
     "metadata": {},
     "output_type": "display_data"
    },
    {
     "data": {
      "text/html": [
       "Run data is saved locally in <code>/Users/mykhailokilianovskyi/src/aisc_oocl_experiments/notebooks/wandb/run-20240816_140423-ktuyvwli</code>"
      ],
      "text/plain": [
       "<IPython.core.display.HTML object>"
      ]
     },
     "metadata": {},
     "output_type": "display_data"
    },
    {
     "data": {
      "text/html": [
       "Syncing run <strong><a href='https://wandb.ai/kilianovski/misha-iml/runs/ktuyvwli' target=\"_blank\">seed=9</a></strong> to <a href='https://wandb.ai/kilianovski/misha-iml' target=\"_blank\">Weights & Biases</a> (<a href='https://wandb.me/run' target=\"_blank\">docs</a>)<br/>"
      ],
      "text/plain": [
       "<IPython.core.display.HTML object>"
      ]
     },
     "metadata": {},
     "output_type": "display_data"
    },
    {
     "data": {
      "text/html": [
       " View project at <a href='https://wandb.ai/kilianovski/misha-iml' target=\"_blank\">https://wandb.ai/kilianovski/misha-iml</a>"
      ],
      "text/plain": [
       "<IPython.core.display.HTML object>"
      ]
     },
     "metadata": {},
     "output_type": "display_data"
    },
    {
     "data": {
      "text/html": [
       " View run at <a href='https://wandb.ai/kilianovski/misha-iml/runs/ktuyvwli' target=\"_blank\">https://wandb.ai/kilianovski/misha-iml/runs/ktuyvwli</a>"
      ],
      "text/plain": [
       "<IPython.core.display.HTML object>"
      ]
     },
     "metadata": {},
     "output_type": "display_data"
    },
    {
     "name": "stdout",
     "output_type": "stream",
     "text": [
      "seed=9\n",
      "int_by_set\n",
      "{'DtQ1': [22, 102, 97, 100, 41, 105, 84, 83, 15, 96, 33, 24, 106, 80, 44, 66, 88, 40, 55, 74, 87, 63, 18, 29, 114, 79, 19, 112, 65, 61], 'DfQ2': [9, 46, 72, 85, 39, 45, 4, 104, 94, 32, 95, 60, 69, 103, 56, 73, 82, 71, 31, 12, 51, 68, 1, 107, 76, 2, 108, 67, 36, 38], 'Dt3': [58, 117, 27, 91, 3, 115, 62, 99, 7, 52, 111, 25, 101, 113, 35, 50, 81, 116, 11, 53, 28, 26, 37, 13, 49, 8, 75, 109, 16, 14], 'Df4': [6, 30, 98, 20, 54, 92, 57, 90, 21, 48, 93, 5, 89, 118, 70, 42, 10, 77, 119, 64, 43, 0, 86, 110, 23, 17, 34, 47, 78, 59]}\n",
      "loaded from ./multiplication_model.pt\n",
      "+--------------------+------------+\n",
      "|      Modules       | Parameters |\n",
      "+--------------------+------------+\n",
      "|     embed.W_E      |   249856   |\n",
      "|  pos_embed.W_pos   |    5120    |\n",
      "| blocks.0.attn.W_Q  |  1048576   |\n",
      "| blocks.0.attn.W_O  |  1048576   |\n",
      "| blocks.0.attn.b_Q  |    1024    |\n",
      "| blocks.0.attn.b_O  |    1024    |\n",
      "| blocks.0.attn.W_K  |  1048576   |\n",
      "| blocks.0.attn.W_V  |  1048576   |\n",
      "| blocks.0.attn.b_K  |    1024    |\n",
      "| blocks.0.attn.b_V  |    1024    |\n",
      "| blocks.0.mlp.W_in  |  4194304   |\n",
      "| blocks.0.mlp.b_in  |    4096    |\n",
      "| blocks.0.mlp.W_out |  4194304   |\n",
      "| blocks.0.mlp.b_out |    1024    |\n",
      "|    unembed.W_U     |   249856   |\n",
      "|    unembed.b_U     |    244     |\n",
      "+--------------------+------------+\n",
      "Total Trainable Params: 13097204\n"
     ]
    },
    {
     "data": {
      "application/vnd.jupyter.widget-view+json": {
       "model_id": "5211ae42853a4d008aef0bcda6da4de3",
       "version_major": 2,
       "version_minor": 0
      },
      "text/plain": [
       "  0%|          | 0/500 [00:00<?, ?it/s]"
      ]
     },
     "metadata": {},
     "output_type": "display_data"
    },
    {
     "name": "stdout",
     "output_type": "stream",
     "text": [
      "saved to stage1__multiplication_model.pt\n"
     ]
    },
    {
     "data": {
      "application/vnd.jupyter.widget-view+json": {
       "model_id": "bb944f2fed204d03b74345faa335fc94",
       "version_major": 2,
       "version_minor": 0
      },
      "text/plain": [
       "  0%|          | 0/500 [00:00<?, ?it/s]"
      ]
     },
     "metadata": {},
     "output_type": "display_data"
    },
    {
     "name": "stdout",
     "output_type": "stream",
     "text": [
      "saved to stage2__multiplication_model.pt\n"
     ]
    }
   ],
   "source": [
    "for seed in range(2, 10):\n",
    "    args = Namespace(\n",
    "        model_path='./models/transformers/', \n",
    "        # model_name='grokking_prod_120_2_0.1_attnonly_True20240709_180213.pt', \n",
    "        wandb_group_name='Luans_model',\n",
    "        wandb_experiment_name=f'seed={seed}',\n",
    "        saved_model_name=None,\n",
    "        log_grad_alignment_freq=50,\n",
    "        seed=seed, \n",
    "        save_steps=[500, 950])\n",
    "\n",
    "\n",
    "    train_iml(args)"
   ]
  },
  {
   "cell_type": "code",
   "execution_count": null,
   "id": "ea2a7d8f-b050-45f0-9b9b-a4acc3fa9f4c",
   "metadata": {},
   "outputs": [],
   "source": []
  },
  {
   "cell_type": "code",
   "execution_count": null,
   "id": "91b8b532-3ad6-410f-a25d-fb4436ec0017",
   "metadata": {},
   "outputs": [],
   "source": [
    "break"
   ]
  },
  {
   "cell_type": "code",
   "execution_count": null,
   "id": "b72d1753-723d-4725-8106-d85d3dd6f1d5",
   "metadata": {},
   "outputs": [],
   "source": [
    "import plotly.graph_objects as go\n",
    "import numpy as np\n",
    "\n",
    "def plot_probs(logits):\n",
    "    \n",
    "    # Create a sample one-dimensional tensor of probabilities\n",
    "    probabilities = F.softmax(logits.detach(), dim=0).numpy()\n",
    "    \n",
    "    # Create labels for each probability (you can customize these)\n",
    "    labels = [f'{i}' for i in range(len(probabilities))]\n",
    "    \n",
    "    # Create the bar chart\n",
    "    fig = go.Figure(data=[\n",
    "        go.Bar(x=labels, y=probabilities)\n",
    "    ])\n",
    "    \n",
    "    # Update the layout\n",
    "    fig.update_layout(\n",
    "        title='Probability Distribution',\n",
    "        xaxis_title='Token ID',\n",
    "        yaxis_title='Probability',\n",
    "        yaxis_range=[0, 1]  # Set y-axis range from 0 to 1 for probabilities\n",
    "    )\n",
    "    \n",
    "    # Show the plot\n",
    "    fig.show()"
   ]
  },
  {
   "cell_type": "code",
   "execution_count": null,
   "id": "1b77868e-ed8f-4031-9636-042c90476ffb",
   "metadata": {},
   "outputs": [],
   "source": [
    "sorted(int_by_set['Dt3'])[:3], sorted(int_by_set['Df4'])[:3],"
   ]
  },
  {
   "cell_type": "code",
   "execution_count": null,
   "id": "4a4d6a97-c19c-43a5-a26e-5e8d6e671208",
   "metadata": {},
   "outputs": [],
   "source": []
  },
  {
   "cell_type": "code",
   "execution_count": null,
   "id": "c035d107-cc33-4588-9dd2-e20b6f81ed9c",
   "metadata": {},
   "outputs": [],
   "source": [
    "x = torch.tensor([\n",
    "    [242, 3+119],\n",
    "])\n",
    "\n",
    "\n",
    "logits = model(x)\n",
    "plot_probs(logits[0, -1])"
   ]
  },
  {
   "cell_type": "code",
   "execution_count": null,
   "id": "8d3c97d8-b766-4a82-a11b-2b4d08a63318",
   "metadata": {},
   "outputs": [],
   "source": []
  },
  {
   "cell_type": "code",
   "execution_count": null,
   "id": "6877fca2-04c8-4e9a-b144-4d9c3706b23a",
   "metadata": {},
   "outputs": [],
   "source": [
    "x = torch.tensor([\n",
    "    [3+119, 4],\n",
    "])\n",
    "\n",
    "logits = model(x)\n",
    "plot_probs(logits[0, -1])"
   ]
  },
  {
   "cell_type": "code",
   "execution_count": null,
   "id": "0a193297-6e39-47f4-9a10-ec6a5dd12ddb",
   "metadata": {},
   "outputs": [],
   "source": [
    "x = torch.tensor([\n",
    "    [241, 75+119],\n",
    "])\n",
    "\n",
    "logits = model(x)\n",
    "plot_probs(logits[0, -1])"
   ]
  },
  {
   "cell_type": "code",
   "execution_count": null,
   "id": "f9d6e70f-9c67-440e-a139-e69aec4340a5",
   "metadata": {},
   "outputs": [],
   "source": []
  },
  {
   "cell_type": "code",
   "execution_count": null,
   "id": "0722480d-cc96-4379-a5bb-891b0082cd3f",
   "metadata": {},
   "outputs": [],
   "source": []
  }
 ],
 "metadata": {
  "kernelspec": {
   "display_name": "Python 3 (ipykernel)",
   "language": "python",
   "name": "python3"
  },
  "language_info": {
   "codemirror_mode": {
    "name": "ipython",
    "version": 3
   },
   "file_extension": ".py",
   "mimetype": "text/x-python",
   "name": "python",
   "nbconvert_exporter": "python",
   "pygments_lexer": "ipython3",
   "version": "3.11.4"
  }
 },
 "nbformat": 4,
 "nbformat_minor": 5
}
